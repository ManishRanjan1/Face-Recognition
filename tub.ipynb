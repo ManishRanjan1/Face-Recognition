{
  "nbformat": 4,
  "nbformat_minor": 0,
  "metadata": {
    "colab": {
      "name": "tub.ipynb",
      "provenance": [],
      "collapsed_sections": []
    },
    "kernelspec": {
      "name": "python3",
      "display_name": "Python 3"
    },
    "language_info": {
      "name": "python"
    },
    "accelerator": "GPU"
  },
  "cells": [
    {
      "cell_type": "code",
      "metadata": {
        "id": "d8fP9xzz1tBF",
        "colab": {
          "base_uri": "https://localhost:8080/"
        },
        "outputId": "732bf174-207c-4e2f-cec9-021154ee1bee"
      },
      "source": [
        "!git clone https://github.com/fizyr/keras-retinanet.git"
      ],
      "execution_count": null,
      "outputs": [
        {
          "output_type": "stream",
          "text": [
            "Cloning into 'keras-retinanet'...\n",
            "remote: Enumerating objects: 6205, done.\u001b[K\n",
            "remote: Total 6205 (delta 0), reused 0 (delta 0), pack-reused 6205\u001b[K\n",
            "Receiving objects: 100% (6205/6205), 13.47 MiB | 29.15 MiB/s, done.\n",
            "Resolving deltas: 100% (4201/4201), done.\n"
          ],
          "name": "stdout"
        }
      ]
    },
    {
      "cell_type": "markdown",
      "metadata": {
        "id": "2wMqfpmjsGXr"
      },
      "source": [
        "https://github.com/fizyr/keras-retinanet/issues/1538"
      ]
    },
    {
      "cell_type": "code",
      "metadata": {
        "id": "w_KHNVLo2BnW",
        "colab": {
          "base_uri": "https://localhost:8080/"
        },
        "outputId": "c23ba6f5-4f28-4970-c058-c72342d128e7"
      },
      "source": [
        "%cd /content/keras-retinanet/ "
      ],
      "execution_count": null,
      "outputs": [
        {
          "output_type": "stream",
          "text": [
            "/content/keras-retinanet\n"
          ],
          "name": "stdout"
        }
      ]
    },
    {
      "cell_type": "code",
      "metadata": {
        "id": "82a5nPkgwn1H",
        "colab": {
          "base_uri": "https://localhost:8080/"
        },
        "outputId": "ba825ad2-a59a-427a-cd3b-cd0710da8e3f"
      },
      "source": [
        "!pip install . --user"
      ],
      "execution_count": null,
      "outputs": [
        {
          "output_type": "stream",
          "text": [
            "Processing /content/keras-retinanet\n",
            "Collecting keras-resnet==0.2.0\n",
            "  Downloading https://files.pythonhosted.org/packages/76/d4/a35cbd07381139dda4db42c81b88c59254faac026109022727b45b31bcad/keras-resnet-0.2.0.tar.gz\n",
            "Requirement already satisfied: six in /usr/local/lib/python3.7/dist-packages (from keras-retinanet==1.0.0) (1.15.0)\n",
            "Requirement already satisfied: numpy in /usr/local/lib/python3.7/dist-packages (from keras-retinanet==1.0.0) (1.19.5)\n",
            "Requirement already satisfied: cython in /usr/local/lib/python3.7/dist-packages (from keras-retinanet==1.0.0) (0.29.23)\n",
            "Requirement already satisfied: Pillow in /usr/local/lib/python3.7/dist-packages (from keras-retinanet==1.0.0) (7.1.2)\n",
            "Requirement already satisfied: opencv-python in /usr/local/lib/python3.7/dist-packages (from keras-retinanet==1.0.0) (4.1.2.30)\n",
            "Requirement already satisfied: progressbar2 in /usr/local/lib/python3.7/dist-packages (from keras-retinanet==1.0.0) (3.38.0)\n",
            "Requirement already satisfied: keras>=2.2.4 in /usr/local/lib/python3.7/dist-packages (from keras-resnet==0.2.0->keras-retinanet==1.0.0) (2.4.3)\n",
            "Requirement already satisfied: python-utils>=2.3.0 in /usr/local/lib/python3.7/dist-packages (from progressbar2->keras-retinanet==1.0.0) (2.5.6)\n",
            "Requirement already satisfied: pyyaml in /usr/local/lib/python3.7/dist-packages (from keras>=2.2.4->keras-resnet==0.2.0->keras-retinanet==1.0.0) (3.13)\n",
            "Requirement already satisfied: h5py in /usr/local/lib/python3.7/dist-packages (from keras>=2.2.4->keras-resnet==0.2.0->keras-retinanet==1.0.0) (3.1.0)\n",
            "Requirement already satisfied: scipy>=0.14 in /usr/local/lib/python3.7/dist-packages (from keras>=2.2.4->keras-resnet==0.2.0->keras-retinanet==1.0.0) (1.4.1)\n",
            "Requirement already satisfied: cached-property; python_version < \"3.8\" in /usr/local/lib/python3.7/dist-packages (from h5py->keras>=2.2.4->keras-resnet==0.2.0->keras-retinanet==1.0.0) (1.5.2)\n",
            "Building wheels for collected packages: keras-retinanet, keras-resnet\n",
            "  Building wheel for keras-retinanet (setup.py) ... \u001b[?25l\u001b[?25hdone\n",
            "  Created wheel for keras-retinanet: filename=keras_retinanet-1.0.0-cp37-cp37m-linux_x86_64.whl size=168036 sha256=b761dcff0d41b6979f19fbf103c9d61cdac4df8cba089d026ac2f43ffae883c3\n",
            "  Stored in directory: /root/.cache/pip/wheels/b2/9f/57/cb0305f6f5a41fc3c11ad67b8cedfbe9127775b563337827ba\n",
            "  Building wheel for keras-resnet (setup.py) ... \u001b[?25l\u001b[?25hdone\n",
            "  Created wheel for keras-resnet: filename=keras_resnet-0.2.0-py2.py3-none-any.whl size=20487 sha256=4f4af18b8e5a6657b851a72ee83c8c5ca563ca0b178abb3a43fff04c388bbb2f\n",
            "  Stored in directory: /root/.cache/pip/wheels/5f/09/a5/497a30fd9ad9964e98a1254d1e164bcd1b8a5eda36197ecb3c\n",
            "Successfully built keras-retinanet keras-resnet\n",
            "Installing collected packages: keras-resnet, keras-retinanet\n",
            "\u001b[33m  WARNING: The scripts retinanet-convert-model, retinanet-debug, retinanet-evaluate and retinanet-train are installed in '/root/.local/bin' which is not on PATH.\n",
            "  Consider adding this directory to PATH or, if you prefer to suppress this warning, use --no-warn-script-location.\u001b[0m\n",
            "Successfully installed keras-resnet-0.2.0 keras-retinanet-1.0.0\n"
          ],
          "name": "stdout"
        }
      ]
    },
    {
      "cell_type": "code",
      "metadata": {
        "id": "83P7rBS2wp-D",
        "colab": {
          "base_uri": "https://localhost:8080/"
        },
        "outputId": "c213a9ba-1dc0-41db-a59f-1c8fa2ed3943"
      },
      "source": [
        "!python setup.py build_ext --inplace"
      ],
      "execution_count": null,
      "outputs": [
        {
          "output_type": "stream",
          "text": [
            "running build_ext\n",
            "cythoning keras_retinanet/utils/compute_overlap.pyx to keras_retinanet/utils/compute_overlap.c\n",
            "/usr/local/lib/python3.7/dist-packages/Cython/Compiler/Main.py:369: FutureWarning: Cython directive 'language_level' not set, using 2 for now (Py2). This will change in a later release! File: /content/keras-retinanet/keras_retinanet/utils/compute_overlap.pyx\n",
            "  tree = Parsing.p_module(s, pxd, full_module_name)\n",
            "building 'keras_retinanet.utils.compute_overlap' extension\n",
            "creating build\n",
            "creating build/temp.linux-x86_64-3.7\n",
            "creating build/temp.linux-x86_64-3.7/keras_retinanet\n",
            "creating build/temp.linux-x86_64-3.7/keras_retinanet/utils\n",
            "x86_64-linux-gnu-gcc -pthread -Wno-unused-result -Wsign-compare -DNDEBUG -g -fwrapv -O2 -Wall -g -fdebug-prefix-map=/build/python3.7-OGiuun/python3.7-3.7.10=. -fstack-protector-strong -Wformat -Werror=format-security -g -fdebug-prefix-map=/build/python3.7-OGiuun/python3.7-3.7.10=. -fstack-protector-strong -Wformat -Werror=format-security -Wdate-time -D_FORTIFY_SOURCE=2 -fPIC -I/usr/include/python3.7m -I/usr/local/lib/python3.7/dist-packages/numpy/core/include -c keras_retinanet/utils/compute_overlap.c -o build/temp.linux-x86_64-3.7/keras_retinanet/utils/compute_overlap.o\n",
            "In file included from \u001b[01m\u001b[K/usr/local/lib/python3.7/dist-packages/numpy/core/include/numpy/ndarraytypes.h:1822:0\u001b[m\u001b[K,\n",
            "                 from \u001b[01m\u001b[K/usr/local/lib/python3.7/dist-packages/numpy/core/include/numpy/ndarrayobject.h:12\u001b[m\u001b[K,\n",
            "                 from \u001b[01m\u001b[K/usr/local/lib/python3.7/dist-packages/numpy/core/include/numpy/arrayobject.h:4\u001b[m\u001b[K,\n",
            "                 from \u001b[01m\u001b[Kkeras_retinanet/utils/compute_overlap.c:612\u001b[m\u001b[K:\n",
            "\u001b[01m\u001b[K/usr/local/lib/python3.7/dist-packages/numpy/core/include/numpy/npy_1_7_deprecated_api.h:17:2:\u001b[m\u001b[K \u001b[01;35m\u001b[Kwarning: \u001b[m\u001b[K#warning \"Using deprecated NumPy API, disable it with \" \"#define NPY_NO_DEPRECATED_API NPY_1_7_API_VERSION\" [\u001b[01;35m\u001b[K-Wcpp\u001b[m\u001b[K]\n",
            " #\u001b[01;35m\u001b[Kwarning\u001b[m\u001b[K \"Using deprecated NumPy API, disable it with \" \\\n",
            "  \u001b[01;35m\u001b[K^~~~~~~\u001b[m\u001b[K\n",
            "creating build/lib.linux-x86_64-3.7\n",
            "creating build/lib.linux-x86_64-3.7/keras_retinanet\n",
            "creating build/lib.linux-x86_64-3.7/keras_retinanet/utils\n",
            "x86_64-linux-gnu-gcc -pthread -shared -Wl,-O1 -Wl,-Bsymbolic-functions -Wl,-Bsymbolic-functions -Wl,-z,relro -Wl,-Bsymbolic-functions -Wl,-z,relro -g -fdebug-prefix-map=/build/python3.7-OGiuun/python3.7-3.7.10=. -fstack-protector-strong -Wformat -Werror=format-security -Wdate-time -D_FORTIFY_SOURCE=2 build/temp.linux-x86_64-3.7/keras_retinanet/utils/compute_overlap.o -o build/lib.linux-x86_64-3.7/keras_retinanet/utils/compute_overlap.cpython-37m-x86_64-linux-gnu.so\n",
            "copying build/lib.linux-x86_64-3.7/keras_retinanet/utils/compute_overlap.cpython-37m-x86_64-linux-gnu.so -> keras_retinanet/utils\n"
          ],
          "name": "stdout"
        }
      ]
    },
    {
      "cell_type": "code",
      "metadata": {
        "id": "w-9zz68qBJZu"
      },
      "source": [
        "!cp /content/drive/MyDrive/emp1.zip ."
      ],
      "execution_count": null,
      "outputs": []
    },
    {
      "cell_type": "code",
      "metadata": {
        "id": "FEuP1WfSfbgH"
      },
      "source": [
        "!cp /content/drive/MyDrive/train_shelf.zip ."
      ],
      "execution_count": null,
      "outputs": []
    },
    {
      "cell_type": "code",
      "metadata": {
        "id": "NgyPXuP-xtMW"
      },
      "source": [
        "# !mkdir /content/drive/MyDrive/inference"
      ],
      "execution_count": null,
      "outputs": []
    },
    {
      "cell_type": "code",
      "metadata": {
        "id": "RIc236IoCIbX"
      },
      "source": [
        "# !rm -r  /content/keras-retinanet/emp1.zip"
      ],
      "execution_count": null,
      "outputs": []
    },
    {
      "cell_type": "code",
      "metadata": {
        "id": "xtF2ULv3xaHj",
        "colab": {
          "base_uri": "https://localhost:8080/"
        },
        "outputId": "bdc7f4be-7caa-4d12-8369-1ee0269d5df6"
      },
      "source": [
        "!unzip emp1.zip"
      ],
      "execution_count": null,
      "outputs": [
        {
          "output_type": "stream",
          "text": [
            "unzip:  cannot find or open emp1.zip, emp1.zip.zip or emp1.zip.ZIP.\n"
          ],
          "name": "stdout"
        }
      ]
    },
    {
      "cell_type": "code",
      "metadata": {
        "colab": {
          "base_uri": "https://localhost:8080/"
        },
        "id": "uumkSrmbgPMp",
        "outputId": "474ada17-2cb2-4de5-d175-9b7e7684335a"
      },
      "source": [
        "!unzip train_shelf.zip"
      ],
      "execution_count": null,
      "outputs": [
        {
          "output_type": "stream",
          "text": [
            "Archive:  train_shelf.zip\n",
            "   creating: train/\n",
            "  inflating: train/C1_P01_N1_S2_1.JPG  \n",
            "  inflating: train/C1_P01_N1_S2_2.JPG  \n",
            "  inflating: train/C1_P01_N1_S3_1.JPG  \n",
            "  inflating: train/C1_P01_N1_S3_2.JPG  \n",
            "  inflating: train/C1_P01_N1_S5_1.JPG  \n",
            "  inflating: train/C1_P01_N2_S2_1.JPG  \n",
            "  inflating: train/C1_P01_N2_S3_1.JPG  \n",
            "  inflating: train/C1_P01_N2_S4_1.JPG  \n",
            "  inflating: train/C1_P01_N3_S2_1.JPG  \n",
            "  inflating: train/C1_P01_N3_S3_1.JPG  \n",
            "  inflating: train/C1_P01_N4_S2_1.JPG  \n",
            "  inflating: train/C1_P02_N1_S2_1.JPG  \n",
            "  inflating: train/C1_P02_N1_S3_1.JPG  \n",
            "  inflating: train/C1_P02_N1_S4_1.JPG  \n",
            "  inflating: train/C1_P02_N2_S4_1.JPG  \n",
            "  inflating: train/C1_P02_N3_S2_1.JPG  \n",
            "  inflating: train/C1_P02_N3_S3_1.JPG  \n",
            "  inflating: train/C1_P02_N4_S2_1.JPG  \n",
            "  inflating: train/C1_P03_N1_S2_2.JPG  \n",
            "  inflating: train/C1_P03_N1_S3_2.JPG  \n",
            "  inflating: train/C1_P03_N2_S3_2.JPG  \n",
            "  inflating: train/C1_P04_N1_S3_1.JPG  \n",
            "  inflating: train/C1_P04_N1_S3_2.JPG  \n",
            "  inflating: train/C1_P04_N1_S5_1.JPG  \n",
            "  inflating: train/C1_P04_N1_S5_2.JPG  \n",
            "  inflating: train/C1_P04_N2_S3_1.JPG  \n",
            "  inflating: train/C1_P04_N2_S4_1.JPG  \n",
            "  inflating: train/C1_P04_N3_S2_1.JPG  \n",
            "  inflating: train/C1_P04_N4_S2_1.JPG  \n",
            "  inflating: train/C1_P05_N1_S3_1.JPG  \n",
            "  inflating: train/C1_P05_N1_S3_2.JPG  \n",
            "  inflating: train/C1_P05_N1_S4_1.JPG  \n",
            "  inflating: train/C1_P05_N1_S4_2.JPG  \n",
            "  inflating: train/C1_P05_N1_S4_3.JPG  \n",
            "  inflating: train/C1_P05_N1_S5_1.JPG  \n",
            "  inflating: train/C1_P05_N2_S3_1.JPG  \n",
            "  inflating: train/C1_P05_N2_S4_1.JPG  \n",
            "  inflating: train/C1_P05_N3_S3_1.JPG  \n",
            "  inflating: train/C1_P05_N3_S4_1.JPG  \n",
            "  inflating: train/C1_P06_N1_S3_2.JPG  \n",
            "  inflating: train/C1_P06_N1_S4_2.JPG  \n",
            "  inflating: train/C1_P06_N2_S3_1.JPG  \n",
            "  inflating: train/C1_P06_N2_S3_2.JPG  \n",
            "  inflating: train/C1_P06_N2_S3_3.JPG  \n",
            "  inflating: train/C1_P06_N3_S3_2.JPG  \n",
            "  inflating: train/C1_P07_N1_S3_1.JPG  \n",
            "  inflating: train/C1_P07_N1_S3_2.JPG  \n",
            "  inflating: train/C1_P07_N1_S3_3.JPG  \n",
            "  inflating: train/C1_P07_N2_S3_1.JPG  \n",
            "  inflating: train/C1_P07_N2_S3_2.JPG  \n",
            "  inflating: train/C1_P07_N2_S3_3.JPG  \n",
            "  inflating: train/C1_P08_N1_S4_1.JPG  \n",
            "  inflating: train/C1_P08_N2_S3_1.JPG  \n",
            "  inflating: train/C1_P08_N2_S4_2.JPG  \n",
            "  inflating: train/C1_P08_N2_S5_1.JPG  \n",
            "  inflating: train/C1_P08_N3_S4_1.JPG  \n",
            "  inflating: train/C1_P08_N3_S4_2.JPG  \n",
            "  inflating: train/C1_P08_N4_S3_1.JPG  \n",
            "  inflating: train/C1_P08_N4_S4_1.JPG  \n",
            "  inflating: train/C1_P09_N1_S2_1.JPG  \n",
            "  inflating: train/C1_P09_N1_S5_1.JPG  \n",
            "  inflating: train/C1_P09_N1_S5_2.JPG  \n",
            "  inflating: train/C1_P09_N2_S4_1.JPG  \n",
            "  inflating: train/C1_P09_N2_S6_1.JPG  \n",
            "  inflating: train/C1_P09_N3_S3_1.JPG  \n",
            "  inflating: train/C1_P09_N3_S4_1.JPG  \n",
            "  inflating: train/C1_P09_N3_S4_2.JPG  \n",
            "  inflating: train/C1_P09_N4_S3_1.JPG  \n",
            "  inflating: train/C1_P09_N4_S4_1.JPG  \n",
            "  inflating: train/C1_P10_N1_S2_1.JPG  \n",
            "  inflating: train/C1_P10_N1_S4_1.JPG  \n",
            "  inflating: train/C1_P10_N2_S2_1.JPG  \n",
            "  inflating: train/C1_P10_N2_S4_1.JPG  \n",
            "  inflating: train/C1_P10_N3_S2_1.JPG  \n",
            "  inflating: train/C1_P10_N3_S2_2.JPG  \n",
            "  inflating: train/C1_P10_N3_S3_1.JPG  \n",
            "  inflating: train/C1_P11_N1_S3_2.JPG  \n",
            "  inflating: train/C1_P11_N1_S4_1.JPG  \n",
            "  inflating: train/C1_P11_N1_S5_1.JPG  \n",
            "  inflating: train/C1_P11_N2_S3_1.JPG  \n",
            "  inflating: train/C1_P11_N2_S4_1.JPG  \n",
            "  inflating: train/C1_P12_N1_S4_1.JPG  \n",
            "  inflating: train/C1_P12_N2_S2_1.JPG  \n",
            "  inflating: train/C1_P12_N2_S4_1.JPG  \n",
            "  inflating: train/C1_P12_N2_S5_1.JPG  \n",
            "  inflating: train/C1_P12_N3_S2_1.JPG  \n",
            "  inflating: train/C1_P12_N3_S3_1.JPG  \n",
            "  inflating: train/C1_P12_N3_S4_1.JPG  \n",
            "  inflating: train/C1_P12_N4_S2_1.JPG  \n",
            "  inflating: train/C1_P12_N4_S3_1.JPG  \n",
            "  inflating: train/C2_P01_N1_S2_1.JPG  \n",
            "  inflating: train/C2_P01_N1_S3_1.JPG  \n",
            "  inflating: train/C2_P01_N1_S5_1.JPG  \n",
            "  inflating: train/C2_P01_N1_S5_2.JPG  \n",
            "  inflating: train/C2_P01_N2_S3_1.JPG  \n",
            "  inflating: train/C2_P01_N2_S3_2.JPG  \n",
            "  inflating: train/C2_P01_N2_S4_1.JPG  \n",
            "  inflating: train/C2_P01_N3_S2_1.JPG  \n",
            "  inflating: train/C2_P01_N4_S2_1.JPG  \n",
            "  inflating: train/C2_P02_N1_S2_1.JPG  \n",
            "  inflating: train/C2_P02_N1_S5_1.JPG  \n",
            "  inflating: train/C2_P02_N2_S2_1.JPG  \n",
            "  inflating: train/C2_P02_N2_S3_1.JPG  \n",
            "  inflating: train/C2_P02_N2_S4_1.JPG  \n",
            "  inflating: train/C2_P02_N3_S2_1.JPG  \n",
            "  inflating: train/C2_P02_N3_S3_1.JPG  \n",
            "  inflating: train/C2_P02_N4_S2_1.JPG  \n",
            "  inflating: train/C2_P03_N1_S2_1.JPG  \n",
            "  inflating: train/C2_P03_N1_S3_1.JPG  \n",
            "  inflating: train/C2_P03_N1_S4_1.JPG  \n",
            "  inflating: train/C2_P03_N1_S5_1.JPG  \n",
            "  inflating: train/C2_P03_N2_S2_1.JPG  \n",
            "  inflating: train/C2_P03_N2_S4_1.JPG  \n",
            "  inflating: train/C2_P03_N3_S2_1.JPG  \n",
            "  inflating: train/C2_P03_N3_S3_1.JPG  \n",
            "  inflating: train/C2_P03_N4_S2_1.JPG  \n",
            "  inflating: train/C2_P04_N1_S2_1.JPG  \n",
            "  inflating: train/C2_P04_N1_S3_1.JPG  \n",
            "  inflating: train/C2_P04_N1_S4_1.JPG  \n",
            "  inflating: train/C2_P04_N1_S5_1.JPG  \n",
            "  inflating: train/C2_P04_N2_S2_1.JPG  \n",
            "  inflating: train/C2_P04_N2_S3_1.JPG  \n",
            "  inflating: train/C2_P04_N2_S4_1.JPG  \n",
            "  inflating: train/C2_P04_N3_S3_1.JPG  \n",
            "  inflating: train/C2_P04_N3_S4_1.JPG  \n",
            "  inflating: train/C2_P05_N1_S2_1.JPG  \n",
            "  inflating: train/C2_P05_N1_S3_1.JPG  \n",
            "  inflating: train/C2_P05_N1_S4_1.JPG  \n",
            "  inflating: train/C2_P05_N1_S5_1.JPG  \n",
            "  inflating: train/C2_P05_N2_S2_1.JPG  \n",
            "  inflating: train/C2_P05_N2_S3_1.JPG  \n",
            "  inflating: train/C2_P05_N2_S3_2.JPG  \n",
            "  inflating: train/C2_P05_N2_S4_1.JPG  \n",
            "  inflating: train/C2_P05_N2_S5_1.JPG  \n",
            "  inflating: train/C2_P05_N3_S3_2.JPG  \n",
            "  inflating: train/C2_P06_N1_S2_1.JPG  \n",
            "  inflating: train/C2_P06_N1_S3_1.JPG  \n",
            "  inflating: train/C2_P06_N1_S3_2.JPG  \n",
            "  inflating: train/C2_P06_N1_S4_1.JPG  \n",
            "  inflating: train/C2_P06_N1_S5_1.JPG  \n",
            "  inflating: train/C2_P06_N2_S3_1.JPG  \n",
            "  inflating: train/C2_P06_N2_S4_1.JPG  \n",
            "  inflating: train/C2_P06_N2_S4_2.JPG  \n",
            "  inflating: train/C2_P06_N3_S3_1.JPG  \n",
            "  inflating: train/C2_P06_N3_S4_1.JPG  \n",
            "  inflating: train/C2_P07_N1_S2_1.JPG  \n",
            "  inflating: train/C2_P07_N1_S3_1.JPG  \n",
            "  inflating: train/C2_P07_N1_S4_1.JPG  \n",
            "  inflating: train/C2_P07_N1_S6_2.JPG  \n",
            "  inflating: train/C2_P07_N2_S3_1.JPG  \n",
            "  inflating: train/C2_P07_N2_S4_1.JPG  \n",
            "  inflating: train/C2_P07_N3_S2_1.JPG  \n",
            "  inflating: train/C2_P07_N3_S3_1.JPG  \n",
            "  inflating: train/C2_P08_N1_S3_1.JPG  \n",
            "  inflating: train/C2_P08_N1_S3_2.JPG  \n",
            "  inflating: train/C2_P08_N1_S4_1.JPG  \n",
            "  inflating: train/C2_P08_N1_S6_1.JPG  \n",
            "  inflating: train/C2_P08_N1_S6_2.JPG  \n",
            "  inflating: train/C2_P08_N2_S3_1.JPG  \n",
            "  inflating: train/C2_P08_N2_S3_2.JPG  \n",
            "  inflating: train/C2_P08_N2_S4_1.JPG  \n",
            "  inflating: train/C2_P08_N3_S3_1.JPG  \n",
            "  inflating: train/C2_P08_N4_S3_1.JPG  \n",
            "  inflating: train/C2_P09_N1_S7_1.JPG  \n",
            "  inflating: train/C2_P09_N1_S7_2.JPG  \n",
            "  inflating: train/C3_P01_N1_S2_1.JPG  \n",
            "  inflating: train/C3_P01_N1_S2_2.JPG  \n",
            "  inflating: train/C3_P01_N1_S3_1.JPG  \n",
            "  inflating: train/C3_P01_N1_S4_1.JPG  \n",
            "  inflating: train/C3_P01_N1_S5_2.JPG  \n",
            "  inflating: train/C3_P01_N2_S2_1.JPG  \n",
            "  inflating: train/C3_P01_N2_S2_2.JPG  \n",
            "  inflating: train/C3_P01_N2_S3_1.JPG  \n",
            "  inflating: train/C3_P01_N2_S4_1.JPG  \n",
            "  inflating: train/C3_P01_N3_S2_1.JPG  \n",
            "  inflating: train/C3_P01_N4_S2_1.JPG  \n",
            "  inflating: train/C3_P01_N4_S3_1.JPG  \n",
            "  inflating: train/C3_P02_N1_S2_1.JPG  \n",
            "  inflating: train/C3_P02_N1_S3_1.JPG  \n",
            "  inflating: train/C3_P02_N1_S4_1.JPG  \n",
            "  inflating: train/C3_P02_N1_S5_1.JPG  \n",
            "  inflating: train/C3_P02_N2_S2_1.JPG  \n",
            "  inflating: train/C3_P02_N2_S2_2.JPG  \n",
            "  inflating: train/C3_P02_N2_S3_1.JPG  \n",
            "  inflating: train/C3_P02_N2_S4_1.JPG  \n",
            "  inflating: train/C3_P02_N3_S2_1.JPG  \n",
            "  inflating: train/C3_P02_N3_S2_2.JPG  \n",
            "  inflating: train/C3_P02_N3_S3_1.JPG  \n",
            "  inflating: train/C3_P02_N4_S2_1.JPG  \n",
            "  inflating: train/C3_P03_N1_S2_1.JPG  \n",
            "  inflating: train/C3_P03_N1_S2_2.JPG  \n",
            "  inflating: train/C3_P03_N1_S4_1.JPG  \n",
            "  inflating: train/C3_P03_N1_S5_1.JPG  \n",
            "  inflating: train/C3_P03_N2_S2_1.JPG  \n",
            "  inflating: train/C3_P03_N2_S3_1.JPG  \n",
            "  inflating: train/C3_P03_N3_S2_1.JPG  \n",
            "  inflating: train/C3_P03_N4_S2_1.JPG  \n",
            "  inflating: train/C3_P04_N1_S2_1.JPG  \n",
            "  inflating: train/C3_P04_N1_S3_1.JPG  \n",
            "  inflating: train/C3_P04_N1_S3_2.JPG  \n",
            "  inflating: train/C3_P04_N2_S2_1.JPG  \n",
            "  inflating: train/C3_P04_N2_S3_1.JPG  \n",
            "  inflating: train/C3_P04_N2_S4_1.JPG  \n",
            "  inflating: train/C3_P04_N3_S2_1.JPG  \n",
            "  inflating: train/C3_P04_N4_S2_1.JPG  \n",
            "  inflating: train/C3_P04_N4_S2_2.JPG  \n",
            "  inflating: train/C3_P05_N1_S2_1.JPG  \n",
            "  inflating: train/C3_P05_N1_S3_1.JPG  \n",
            "  inflating: train/C3_P05_N1_S4_1.JPG  \n",
            "  inflating: train/C3_P05_N1_S5_1.JPG  \n",
            "  inflating: train/C3_P05_N2_S2_1.JPG  \n",
            "  inflating: train/C3_P05_N2_S3_1.JPG  \n",
            "  inflating: train/C3_P05_N2_S4_1.JPG  \n",
            "  inflating: train/C3_P05_N3_S3_1.JPG  \n",
            "  inflating: train/C3_P05_N4_S2_1.JPG  \n",
            "  inflating: train/C3_P06_N1_S3_1.JPG  \n",
            "  inflating: train/C3_P06_N1_S4_1.JPG  \n",
            "  inflating: train/C3_P06_N1_S5_1.JPG  \n",
            "  inflating: train/C3_P06_N2_S3_1.JPG  \n",
            "  inflating: train/C3_P06_N3_S3_1.JPG  \n",
            "  inflating: train/C3_P06_N3_S4_1.JPG  \n",
            "  inflating: train/C3_P06_N3_S4_2.JPG  \n",
            "  inflating: train/C3_P07_N1_S2_1.JPG  \n",
            "  inflating: train/C3_P07_N1_S3_1.JPG  \n",
            "  inflating: train/C3_P07_N1_S4_1.JPG  \n",
            "  inflating: train/C3_P07_N1_S5_1.JPG  \n",
            "  inflating: train/C3_P07_N1_S6_1.JPG  \n",
            "  inflating: train/C3_P07_N2_S2_1.JPG  \n",
            "  inflating: train/C3_P07_N2_S3_1.JPG  \n",
            "  inflating: train/C3_P07_N2_S4_1.JPG  \n",
            "  inflating: train/C3_P07_N3_S2_1.JPG  \n",
            "  inflating: train/C3_P07_N3_S3_1.JPG  \n",
            "  inflating: train/C3_P07_N4_S2_1.JPG  \n",
            "  inflating: train/C3_P07_N5_S2_1.JPG  \n",
            "  inflating: train/C4_P01_N1_S2_1.JPG  \n",
            "  inflating: train/C4_P01_N1_S3_1.JPG  \n",
            "  inflating: train/C4_P01_N2_S4_1.JPG  \n",
            "  inflating: train/C4_P01_N3_S3_1.JPG  \n",
            "  inflating: train/C4_P02_N1_S3_1.JPG  \n",
            "  inflating: train/C4_P02_N1_S3_2.JPG  \n",
            "  inflating: train/C4_P02_N2_S3_1.JPG  \n",
            "  inflating: train/C4_P02_N2_S4_1.JPG  \n",
            "  inflating: train/C4_P02_N3_S2_1.JPG  \n",
            "  inflating: train/C4_P02_N4_S3_1.JPG  \n",
            "  inflating: train/C4_P03_N2_S3_1.JPG  \n",
            "  inflating: train/C4_P03_N2_S3_2.JPG  \n",
            "  inflating: train/C4_P03_N2_S4_1.JPG  \n",
            "  inflating: train/C4_P03_N3_S3_1.JPG  \n",
            "  inflating: train/C4_P03_N3_S3_2.JPG  \n",
            "  inflating: train/C4_P04_N1_S2_1.JPG  \n",
            "  inflating: train/C4_P04_N1_S4_1.JPG  \n",
            "  inflating: train/C4_P04_N1_S5_1.JPG  \n",
            "  inflating: train/C4_P04_N2_S3_1.JPG  \n",
            "  inflating: train/C4_P04_N2_S4_1.JPG  \n",
            "  inflating: train/C4_P04_N3_S3_1.JPG  \n",
            "  inflating: train/C4_P04_N5_S2_1.JPG  \n",
            "  inflating: train/C4_P05_N1_S2_1.JPG  \n",
            "  inflating: train/C4_P05_N1_S3_1.JPG  \n",
            "  inflating: train/C4_P05_N1_S4_1.JPG  \n",
            "  inflating: train/C4_P05_N1_S5_1.JPG  \n",
            "  inflating: train/C4_P05_N2_S3_1.JPG  \n",
            "  inflating: train/C4_P05_N2_S4_1.JPG  \n",
            "  inflating: train/C4_P05_N3_S2_1.JPG  \n",
            "  inflating: train/C4_P05_N3_S3_1.JPG  \n",
            "  inflating: train/C4_P05_N4_S2_1.JPG  \n",
            "  inflating: train/C4_P05_N5_S2_1.JPG  \n",
            "  inflating: train/C4_P06_N1_S3_1.JPG  \n",
            "  inflating: train/C4_P06_N1_S4_1.JPG  \n",
            "  inflating: train/C4_P06_N2_S3_1.JPG  \n",
            "  inflating: train/C4_P06_N4_S3_1.JPG  \n",
            "  inflating: train/C4_P07_N1_S4_1.JPG  \n",
            "  inflating: train/C4_P07_N1_S4_2.JPG  \n",
            "  inflating: train/C4_P07_N1_S5_1.JPG  \n",
            "  inflating: train/C4_P07_N2_S3_1.JPG  \n",
            "  inflating: train/C4_P07_N2_S3_2.JPG  \n",
            "  inflating: train/C4_P07_N2_S4_1.JPG  \n",
            "  inflating: train/C4_P07_N3_S3_2.JPG  \n",
            "  inflating: train/C4_P08_N1_S2_1.JPG  \n",
            "  inflating: train/C4_P08_N1_S5_1.JPG  \n",
            "  inflating: train/C4_P08_N2_S3_1.JPG  \n",
            "  inflating: train/C4_P08_N2_S3_2.JPG  \n",
            "  inflating: train/C4_P08_N2_S4_1.JPG  \n",
            "  inflating: train/C4_P08_N3_S3_2.JPG  \n"
          ],
          "name": "stdout"
        }
      ]
    },
    {
      "cell_type": "code",
      "metadata": {
        "colab": {
          "base_uri": "https://localhost:8080/"
        },
        "id": "mUD9ie0-sYB5",
        "outputId": "d7b5ce53-26d8-4b2c-8207-1f9dc3f28411"
      },
      "source": [
        "!pip uninstall keras -y\n",
        "!pip uninstall keras-nightly -y\n",
        "!pip uninstall keras-Preprocessing -y\n",
        "!pip uninstall keras-vis -y\n",
        "!pip uninstall tensorflow -y"
      ],
      "execution_count": null,
      "outputs": [
        {
          "output_type": "stream",
          "text": [
            "Uninstalling Keras-2.4.3:\n",
            "  Successfully uninstalled Keras-2.4.3\n",
            "Uninstalling keras-nightly-2.5.0.dev2021032900:\n",
            "  Successfully uninstalled keras-nightly-2.5.0.dev2021032900\n",
            "Uninstalling Keras-Preprocessing-1.1.2:\n",
            "  Successfully uninstalled Keras-Preprocessing-1.1.2\n",
            "Uninstalling keras-vis-0.4.1:\n",
            "  Successfully uninstalled keras-vis-0.4.1\n",
            "Uninstalling tensorflow-2.5.0:\n",
            "  Successfully uninstalled tensorflow-2.5.0\n"
          ],
          "name": "stdout"
        }
      ]
    },
    {
      "cell_type": "code",
      "metadata": {
        "colab": {
          "base_uri": "https://localhost:8080/",
          "height": 1000
        },
        "id": "A818LtfIsbY4",
        "outputId": "371de0f5-7fff-429e-f86f-e2c2b8a0000d"
      },
      "source": [
        "!pip install tensorflow-gpu==2.3.0\n",
        "!pip install tensorflow==2.3.0\n",
        "!pip install keras==2.4"
      ],
      "execution_count": null,
      "outputs": [
        {
          "output_type": "stream",
          "text": [
            "Collecting tensorflow==2.3.0\n",
            "\u001b[?25l  Downloading https://files.pythonhosted.org/packages/16/89/f2d29c2eafc2eeafb17d5634340e06366af904d332341200a49d954bce85/tensorflow-2.3.0-cp37-cp37m-manylinux2010_x86_64.whl (320.4MB)\n",
            "\u001b[K     |████████████████████████████████| 320.4MB 47kB/s \n",
            "\u001b[?25hRequirement already satisfied: tensorboard<3,>=2.3.0 in /usr/local/lib/python3.7/dist-packages (from tensorflow==2.3.0) (2.5.0)\n",
            "Collecting gast==0.3.3\n",
            "  Downloading https://files.pythonhosted.org/packages/d6/84/759f5dd23fec8ba71952d97bcc7e2c9d7d63bdc582421f3cd4be845f0c98/gast-0.3.3-py2.py3-none-any.whl\n",
            "Requirement already satisfied: termcolor>=1.1.0 in /usr/local/lib/python3.7/dist-packages (from tensorflow==2.3.0) (1.1.0)\n",
            "Requirement already satisfied: wrapt>=1.11.1 in /usr/local/lib/python3.7/dist-packages (from tensorflow==2.3.0) (1.12.1)\n",
            "Collecting keras-preprocessing<1.2,>=1.1.1\n",
            "\u001b[?25l  Downloading https://files.pythonhosted.org/packages/79/4c/7c3275a01e12ef9368a892926ab932b33bb13d55794881e3573482b378a7/Keras_Preprocessing-1.1.2-py2.py3-none-any.whl (42kB)\n",
            "\u001b[K     |████████████████████████████████| 51kB 9.0MB/s \n",
            "\u001b[?25hRequirement already satisfied: wheel>=0.26 in /usr/local/lib/python3.7/dist-packages (from tensorflow==2.3.0) (0.36.2)\n",
            "Collecting numpy<1.19.0,>=1.16.0\n",
            "\u001b[?25l  Downloading https://files.pythonhosted.org/packages/d6/c6/58e517e8b1fb192725cfa23c01c2e60e4e6699314ee9684a1c5f5c9b27e1/numpy-1.18.5-cp37-cp37m-manylinux1_x86_64.whl (20.1MB)\n",
            "\u001b[K     |████████████████████████████████| 20.1MB 103kB/s \n",
            "\u001b[?25hCollecting h5py<2.11.0,>=2.10.0\n",
            "\u001b[?25l  Downloading https://files.pythonhosted.org/packages/3f/c0/abde58b837e066bca19a3f7332d9d0493521d7dd6b48248451a9e3fe2214/h5py-2.10.0-cp37-cp37m-manylinux1_x86_64.whl (2.9MB)\n",
            "\u001b[K     |████████████████████████████████| 2.9MB 25.9MB/s \n",
            "\u001b[?25hRequirement already satisfied: protobuf>=3.9.2 in /usr/local/lib/python3.7/dist-packages (from tensorflow==2.3.0) (3.12.4)\n",
            "Collecting tensorflow-estimator<2.4.0,>=2.3.0\n",
            "\u001b[?25l  Downloading https://files.pythonhosted.org/packages/e9/ed/5853ec0ae380cba4588eab1524e18ece1583b65f7ae0e97321f5ff9dfd60/tensorflow_estimator-2.3.0-py2.py3-none-any.whl (459kB)\n",
            "\u001b[K     |████████████████████████████████| 460kB 47.3MB/s \n",
            "\u001b[?25hRequirement already satisfied: six>=1.12.0 in /usr/local/lib/python3.7/dist-packages (from tensorflow==2.3.0) (1.15.0)\n",
            "Requirement already satisfied: opt-einsum>=2.3.2 in /usr/local/lib/python3.7/dist-packages (from tensorflow==2.3.0) (3.3.0)\n",
            "Requirement already satisfied: scipy==1.4.1 in /usr/local/lib/python3.7/dist-packages (from tensorflow==2.3.0) (1.4.1)\n",
            "Requirement already satisfied: grpcio>=1.8.6 in /usr/local/lib/python3.7/dist-packages (from tensorflow==2.3.0) (1.34.1)\n",
            "Requirement already satisfied: google-pasta>=0.1.8 in /usr/local/lib/python3.7/dist-packages (from tensorflow==2.3.0) (0.2.0)\n",
            "Requirement already satisfied: absl-py>=0.7.0 in /usr/local/lib/python3.7/dist-packages (from tensorflow==2.3.0) (0.12.0)\n",
            "Requirement already satisfied: astunparse==1.6.3 in /usr/local/lib/python3.7/dist-packages (from tensorflow==2.3.0) (1.6.3)\n",
            "Requirement already satisfied: werkzeug>=0.11.15 in /usr/local/lib/python3.7/dist-packages (from tensorboard<3,>=2.3.0->tensorflow==2.3.0) (1.0.1)\n",
            "Requirement already satisfied: google-auth<2,>=1.6.3 in /usr/local/lib/python3.7/dist-packages (from tensorboard<3,>=2.3.0->tensorflow==2.3.0) (1.30.0)\n",
            "Requirement already satisfied: google-auth-oauthlib<0.5,>=0.4.1 in /usr/local/lib/python3.7/dist-packages (from tensorboard<3,>=2.3.0->tensorflow==2.3.0) (0.4.4)\n",
            "Requirement already satisfied: markdown>=2.6.8 in /usr/local/lib/python3.7/dist-packages (from tensorboard<3,>=2.3.0->tensorflow==2.3.0) (3.3.4)\n",
            "Requirement already satisfied: tensorboard-data-server<0.7.0,>=0.6.0 in /usr/local/lib/python3.7/dist-packages (from tensorboard<3,>=2.3.0->tensorflow==2.3.0) (0.6.1)\n",
            "Requirement already satisfied: setuptools>=41.0.0 in /usr/local/lib/python3.7/dist-packages (from tensorboard<3,>=2.3.0->tensorflow==2.3.0) (57.0.0)\n",
            "Requirement already satisfied: requests<3,>=2.21.0 in /usr/local/lib/python3.7/dist-packages (from tensorboard<3,>=2.3.0->tensorflow==2.3.0) (2.23.0)\n",
            "Requirement already satisfied: tensorboard-plugin-wit>=1.6.0 in /usr/local/lib/python3.7/dist-packages (from tensorboard<3,>=2.3.0->tensorflow==2.3.0) (1.8.0)\n",
            "Requirement already satisfied: rsa<5,>=3.1.4; python_version >= \"3.6\" in /usr/local/lib/python3.7/dist-packages (from google-auth<2,>=1.6.3->tensorboard<3,>=2.3.0->tensorflow==2.3.0) (4.7.2)\n",
            "Requirement already satisfied: cachetools<5.0,>=2.0.0 in /usr/local/lib/python3.7/dist-packages (from google-auth<2,>=1.6.3->tensorboard<3,>=2.3.0->tensorflow==2.3.0) (4.2.2)\n",
            "Requirement already satisfied: pyasn1-modules>=0.2.1 in /usr/local/lib/python3.7/dist-packages (from google-auth<2,>=1.6.3->tensorboard<3,>=2.3.0->tensorflow==2.3.0) (0.2.8)\n",
            "Requirement already satisfied: requests-oauthlib>=0.7.0 in /usr/local/lib/python3.7/dist-packages (from google-auth-oauthlib<0.5,>=0.4.1->tensorboard<3,>=2.3.0->tensorflow==2.3.0) (1.3.0)\n",
            "Requirement already satisfied: importlib-metadata; python_version < \"3.8\" in /usr/local/lib/python3.7/dist-packages (from markdown>=2.6.8->tensorboard<3,>=2.3.0->tensorflow==2.3.0) (4.0.1)\n",
            "Requirement already satisfied: idna<3,>=2.5 in /usr/local/lib/python3.7/dist-packages (from requests<3,>=2.21.0->tensorboard<3,>=2.3.0->tensorflow==2.3.0) (2.10)\n",
            "Requirement already satisfied: chardet<4,>=3.0.2 in /usr/local/lib/python3.7/dist-packages (from requests<3,>=2.21.0->tensorboard<3,>=2.3.0->tensorflow==2.3.0) (3.0.4)\n",
            "Requirement already satisfied: urllib3!=1.25.0,!=1.25.1,<1.26,>=1.21.1 in /usr/local/lib/python3.7/dist-packages (from requests<3,>=2.21.0->tensorboard<3,>=2.3.0->tensorflow==2.3.0) (1.24.3)\n",
            "Requirement already satisfied: certifi>=2017.4.17 in /usr/local/lib/python3.7/dist-packages (from requests<3,>=2.21.0->tensorboard<3,>=2.3.0->tensorflow==2.3.0) (2020.12.5)\n",
            "Requirement already satisfied: pyasn1>=0.1.3 in /usr/local/lib/python3.7/dist-packages (from rsa<5,>=3.1.4; python_version >= \"3.6\"->google-auth<2,>=1.6.3->tensorboard<3,>=2.3.0->tensorflow==2.3.0) (0.4.8)\n",
            "Requirement already satisfied: oauthlib>=3.0.0 in /usr/local/lib/python3.7/dist-packages (from requests-oauthlib>=0.7.0->google-auth-oauthlib<0.5,>=0.4.1->tensorboard<3,>=2.3.0->tensorflow==2.3.0) (3.1.0)\n",
            "Requirement already satisfied: zipp>=0.5 in /usr/local/lib/python3.7/dist-packages (from importlib-metadata; python_version < \"3.8\"->markdown>=2.6.8->tensorboard<3,>=2.3.0->tensorflow==2.3.0) (3.4.1)\n",
            "Requirement already satisfied: typing-extensions>=3.6.4; python_version < \"3.8\" in /usr/local/lib/python3.7/dist-packages (from importlib-metadata; python_version < \"3.8\"->markdown>=2.6.8->tensorboard<3,>=2.3.0->tensorflow==2.3.0) (3.7.4.3)\n",
            "\u001b[31mERROR: datascience 0.10.6 has requirement folium==0.2.1, but you'll have folium 0.8.3 which is incompatible.\u001b[0m\n",
            "\u001b[31mERROR: albumentations 0.1.12 has requirement imgaug<0.2.7,>=0.2.5, but you'll have imgaug 0.2.9 which is incompatible.\u001b[0m\n",
            "Installing collected packages: gast, numpy, keras-preprocessing, h5py, tensorflow-estimator, tensorflow\n",
            "  Found existing installation: gast 0.4.0\n",
            "    Uninstalling gast-0.4.0:\n",
            "      Successfully uninstalled gast-0.4.0\n",
            "  Found existing installation: numpy 1.19.5\n",
            "    Uninstalling numpy-1.19.5:\n",
            "      Successfully uninstalled numpy-1.19.5\n",
            "  Found existing installation: h5py 3.1.0\n",
            "    Uninstalling h5py-3.1.0:\n",
            "      Successfully uninstalled h5py-3.1.0\n",
            "  Found existing installation: tensorflow-estimator 2.5.0\n",
            "    Uninstalling tensorflow-estimator-2.5.0:\n",
            "      Successfully uninstalled tensorflow-estimator-2.5.0\n",
            "Successfully installed gast-0.3.3 h5py-2.10.0 keras-preprocessing-1.1.2 numpy-1.18.5 tensorflow-2.3.0 tensorflow-estimator-2.3.0\n"
          ],
          "name": "stdout"
        },
        {
          "output_type": "display_data",
          "data": {
            "application/vnd.colab-display-data+json": {
              "pip_warning": {
                "packages": [
                  "numpy"
                ]
              }
            }
          },
          "metadata": {
            "tags": []
          }
        },
        {
          "output_type": "stream",
          "text": [
            "Collecting keras==2.4\n",
            "\u001b[?25l  Downloading https://files.pythonhosted.org/packages/b6/19/9d8f1c86c09d05369da39b03d011cd689edef86c0e6b2777dbcedc49dfc6/Keras-2.4.0-py2.py3-none-any.whl (170kB)\n",
            "\r\u001b[K     |██                              | 10kB 19.7MB/s eta 0:00:01\r\u001b[K     |███▉                            | 20kB 19.4MB/s eta 0:00:01\r\u001b[K     |█████▊                          | 30kB 16.1MB/s eta 0:00:01\r\u001b[K     |███████▊                        | 40kB 14.7MB/s eta 0:00:01\r\u001b[K     |█████████▋                      | 51kB 8.0MB/s eta 0:00:01\r\u001b[K     |███████████▌                    | 61kB 9.3MB/s eta 0:00:01\r\u001b[K     |█████████████▌                  | 71kB 8.9MB/s eta 0:00:01\r\u001b[K     |███████████████▍                | 81kB 9.9MB/s eta 0:00:01\r\u001b[K     |█████████████████▎              | 92kB 9.4MB/s eta 0:00:01\r\u001b[K     |███████████████████▎            | 102kB 7.7MB/s eta 0:00:01\r\u001b[K     |█████████████████████▏          | 112kB 7.7MB/s eta 0:00:01\r\u001b[K     |███████████████████████         | 122kB 7.7MB/s eta 0:00:01\r\u001b[K     |█████████████████████████       | 133kB 7.7MB/s eta 0:00:01\r\u001b[K     |███████████████████████████     | 143kB 7.7MB/s eta 0:00:01\r\u001b[K     |████████████████████████████▉   | 153kB 7.7MB/s eta 0:00:01\r\u001b[K     |██████████████████████████████▉ | 163kB 7.7MB/s eta 0:00:01\r\u001b[K     |████████████████████████████████| 174kB 7.7MB/s \n",
            "\u001b[?25hRequirement already satisfied: tensorflow>=2.2.0 in /usr/local/lib/python3.7/dist-packages (from keras==2.4) (2.3.0)\n",
            "Requirement already satisfied: pyyaml in /usr/local/lib/python3.7/dist-packages (from keras==2.4) (3.13)\n",
            "Requirement already satisfied: scipy>=0.14 in /usr/local/lib/python3.7/dist-packages (from keras==2.4) (1.4.1)\n",
            "Requirement already satisfied: h5py in /usr/local/lib/python3.7/dist-packages (from keras==2.4) (2.10.0)\n",
            "Requirement already satisfied: numpy>=1.9.1 in /usr/local/lib/python3.7/dist-packages (from keras==2.4) (1.18.5)\n",
            "Requirement already satisfied: tensorflow-estimator<2.4.0,>=2.3.0 in /usr/local/lib/python3.7/dist-packages (from tensorflow>=2.2.0->keras==2.4) (2.3.0)\n",
            "Requirement already satisfied: termcolor>=1.1.0 in /usr/local/lib/python3.7/dist-packages (from tensorflow>=2.2.0->keras==2.4) (1.1.0)\n",
            "Requirement already satisfied: six>=1.12.0 in /usr/local/lib/python3.7/dist-packages (from tensorflow>=2.2.0->keras==2.4) (1.15.0)\n",
            "Requirement already satisfied: opt-einsum>=2.3.2 in /usr/local/lib/python3.7/dist-packages (from tensorflow>=2.2.0->keras==2.4) (3.3.0)\n",
            "Requirement already satisfied: keras-preprocessing<1.2,>=1.1.1 in /usr/local/lib/python3.7/dist-packages (from tensorflow>=2.2.0->keras==2.4) (1.1.2)\n",
            "Requirement already satisfied: wheel>=0.26 in /usr/local/lib/python3.7/dist-packages (from tensorflow>=2.2.0->keras==2.4) (0.36.2)\n",
            "Requirement already satisfied: google-pasta>=0.1.8 in /usr/local/lib/python3.7/dist-packages (from tensorflow>=2.2.0->keras==2.4) (0.2.0)\n",
            "Requirement already satisfied: gast==0.3.3 in /usr/local/lib/python3.7/dist-packages (from tensorflow>=2.2.0->keras==2.4) (0.3.3)\n",
            "Requirement already satisfied: tensorboard<3,>=2.3.0 in /usr/local/lib/python3.7/dist-packages (from tensorflow>=2.2.0->keras==2.4) (2.5.0)\n",
            "Requirement already satisfied: grpcio>=1.8.6 in /usr/local/lib/python3.7/dist-packages (from tensorflow>=2.2.0->keras==2.4) (1.34.1)\n",
            "Requirement already satisfied: absl-py>=0.7.0 in /usr/local/lib/python3.7/dist-packages (from tensorflow>=2.2.0->keras==2.4) (0.12.0)\n",
            "Requirement already satisfied: astunparse==1.6.3 in /usr/local/lib/python3.7/dist-packages (from tensorflow>=2.2.0->keras==2.4) (1.6.3)\n",
            "Requirement already satisfied: protobuf>=3.9.2 in /usr/local/lib/python3.7/dist-packages (from tensorflow>=2.2.0->keras==2.4) (3.12.4)\n",
            "Requirement already satisfied: wrapt>=1.11.1 in /usr/local/lib/python3.7/dist-packages (from tensorflow>=2.2.0->keras==2.4) (1.12.1)\n",
            "Requirement already satisfied: tensorboard-plugin-wit>=1.6.0 in /usr/local/lib/python3.7/dist-packages (from tensorboard<3,>=2.3.0->tensorflow>=2.2.0->keras==2.4) (1.8.0)\n",
            "Requirement already satisfied: requests<3,>=2.21.0 in /usr/local/lib/python3.7/dist-packages (from tensorboard<3,>=2.3.0->tensorflow>=2.2.0->keras==2.4) (2.23.0)\n",
            "Requirement already satisfied: werkzeug>=0.11.15 in /usr/local/lib/python3.7/dist-packages (from tensorboard<3,>=2.3.0->tensorflow>=2.2.0->keras==2.4) (1.0.1)\n",
            "Requirement already satisfied: google-auth-oauthlib<0.5,>=0.4.1 in /usr/local/lib/python3.7/dist-packages (from tensorboard<3,>=2.3.0->tensorflow>=2.2.0->keras==2.4) (0.4.4)\n",
            "Requirement already satisfied: setuptools>=41.0.0 in /usr/local/lib/python3.7/dist-packages (from tensorboard<3,>=2.3.0->tensorflow>=2.2.0->keras==2.4) (57.0.0)\n",
            "Requirement already satisfied: google-auth<2,>=1.6.3 in /usr/local/lib/python3.7/dist-packages (from tensorboard<3,>=2.3.0->tensorflow>=2.2.0->keras==2.4) (1.30.0)\n",
            "Requirement already satisfied: markdown>=2.6.8 in /usr/local/lib/python3.7/dist-packages (from tensorboard<3,>=2.3.0->tensorflow>=2.2.0->keras==2.4) (3.3.4)\n",
            "Requirement already satisfied: tensorboard-data-server<0.7.0,>=0.6.0 in /usr/local/lib/python3.7/dist-packages (from tensorboard<3,>=2.3.0->tensorflow>=2.2.0->keras==2.4) (0.6.1)\n",
            "Requirement already satisfied: chardet<4,>=3.0.2 in /usr/local/lib/python3.7/dist-packages (from requests<3,>=2.21.0->tensorboard<3,>=2.3.0->tensorflow>=2.2.0->keras==2.4) (3.0.4)\n",
            "Requirement already satisfied: urllib3!=1.25.0,!=1.25.1,<1.26,>=1.21.1 in /usr/local/lib/python3.7/dist-packages (from requests<3,>=2.21.0->tensorboard<3,>=2.3.0->tensorflow>=2.2.0->keras==2.4) (1.24.3)\n",
            "Requirement already satisfied: idna<3,>=2.5 in /usr/local/lib/python3.7/dist-packages (from requests<3,>=2.21.0->tensorboard<3,>=2.3.0->tensorflow>=2.2.0->keras==2.4) (2.10)\n",
            "Requirement already satisfied: certifi>=2017.4.17 in /usr/local/lib/python3.7/dist-packages (from requests<3,>=2.21.0->tensorboard<3,>=2.3.0->tensorflow>=2.2.0->keras==2.4) (2020.12.5)\n",
            "Requirement already satisfied: requests-oauthlib>=0.7.0 in /usr/local/lib/python3.7/dist-packages (from google-auth-oauthlib<0.5,>=0.4.1->tensorboard<3,>=2.3.0->tensorflow>=2.2.0->keras==2.4) (1.3.0)\n",
            "Requirement already satisfied: rsa<5,>=3.1.4; python_version >= \"3.6\" in /usr/local/lib/python3.7/dist-packages (from google-auth<2,>=1.6.3->tensorboard<3,>=2.3.0->tensorflow>=2.2.0->keras==2.4) (4.7.2)\n",
            "Requirement already satisfied: cachetools<5.0,>=2.0.0 in /usr/local/lib/python3.7/dist-packages (from google-auth<2,>=1.6.3->tensorboard<3,>=2.3.0->tensorflow>=2.2.0->keras==2.4) (4.2.2)\n",
            "Requirement already satisfied: pyasn1-modules>=0.2.1 in /usr/local/lib/python3.7/dist-packages (from google-auth<2,>=1.6.3->tensorboard<3,>=2.3.0->tensorflow>=2.2.0->keras==2.4) (0.2.8)\n",
            "Requirement already satisfied: importlib-metadata; python_version < \"3.8\" in /usr/local/lib/python3.7/dist-packages (from markdown>=2.6.8->tensorboard<3,>=2.3.0->tensorflow>=2.2.0->keras==2.4) (4.0.1)\n",
            "Requirement already satisfied: oauthlib>=3.0.0 in /usr/local/lib/python3.7/dist-packages (from requests-oauthlib>=0.7.0->google-auth-oauthlib<0.5,>=0.4.1->tensorboard<3,>=2.3.0->tensorflow>=2.2.0->keras==2.4) (3.1.0)\n",
            "Requirement already satisfied: pyasn1>=0.1.3 in /usr/local/lib/python3.7/dist-packages (from rsa<5,>=3.1.4; python_version >= \"3.6\"->google-auth<2,>=1.6.3->tensorboard<3,>=2.3.0->tensorflow>=2.2.0->keras==2.4) (0.4.8)\n",
            "Requirement already satisfied: typing-extensions>=3.6.4; python_version < \"3.8\" in /usr/local/lib/python3.7/dist-packages (from importlib-metadata; python_version < \"3.8\"->markdown>=2.6.8->tensorboard<3,>=2.3.0->tensorflow>=2.2.0->keras==2.4) (3.7.4.3)\n",
            "Requirement already satisfied: zipp>=0.5 in /usr/local/lib/python3.7/dist-packages (from importlib-metadata; python_version < \"3.8\"->markdown>=2.6.8->tensorboard<3,>=2.3.0->tensorflow>=2.2.0->keras==2.4) (3.4.1)\n",
            "Installing collected packages: keras\n",
            "Successfully installed keras-2.4.0\n"
          ],
          "name": "stdout"
        }
      ]
    },
    {
      "cell_type": "code",
      "metadata": {
        "id": "lB1IKpt7haJW"
      },
      "source": [
        "!python keras_retinanet/bin/train.py  --batch-size 1 --epochs 50 --gpu=0 --steps 860 --snapshot-path /content/drive/MyDrive/snapshot/ --snapshot /content/drive/MyDrive/snapshot/resnet50_csv_11.h5 --tensorboard-dir ./Tensorboard_files/  csv tub.csv Mapping_tub.csv "
      ],
      "execution_count": null,
      "outputs": []
    },
    {
      "cell_type": "code",
      "metadata": {
        "id": "03wM_6_FDG_b",
        "colab": {
          "base_uri": "https://localhost:8080/"
        },
        "outputId": "146ca1ef-f0f9-4205-ec14-1aaf36b9f175"
      },
      "source": [
        "!python keras_retinanet/bin/train.py  --batch-size 1 --epochs 50 --gpu=0 --steps 283 --config config.ini csv train_annotation.csv Mapping.csv "
      ],
      "execution_count": null,
      "outputs": [
        {
          "output_type": "stream",
          "text": [
            "2021-06-14 08:54:47.645259: I tensorflow/stream_executor/platform/default/dso_loader.cc:48] Successfully opened dynamic library libcudart.so.10.1\n",
            "Using TensorFlow backend.\n",
            "2021-06-14 08:54:48.857690: I tensorflow/stream_executor/platform/default/dso_loader.cc:48] Successfully opened dynamic library libcuda.so.1\n",
            "2021-06-14 08:54:48.890335: I tensorflow/stream_executor/cuda/cuda_gpu_executor.cc:982] successful NUMA node read from SysFS had negative value (-1), but there must be at least one NUMA node, so returning NUMA node zero\n",
            "2021-06-14 08:54:48.890949: I tensorflow/core/common_runtime/gpu/gpu_device.cc:1716] Found device 0 with properties: \n",
            "pciBusID: 0000:00:04.0 name: Tesla T4 computeCapability: 7.5\n",
            "coreClock: 1.59GHz coreCount: 40 deviceMemorySize: 14.75GiB deviceMemoryBandwidth: 298.08GiB/s\n",
            "2021-06-14 08:54:48.890991: I tensorflow/stream_executor/platform/default/dso_loader.cc:48] Successfully opened dynamic library libcudart.so.10.1\n",
            "2021-06-14 08:54:48.892846: I tensorflow/stream_executor/platform/default/dso_loader.cc:48] Successfully opened dynamic library libcublas.so.10\n",
            "2021-06-14 08:54:48.894784: I tensorflow/stream_executor/platform/default/dso_loader.cc:48] Successfully opened dynamic library libcufft.so.10\n",
            "2021-06-14 08:54:48.895137: I tensorflow/stream_executor/platform/default/dso_loader.cc:48] Successfully opened dynamic library libcurand.so.10\n",
            "2021-06-14 08:54:48.897153: I tensorflow/stream_executor/platform/default/dso_loader.cc:48] Successfully opened dynamic library libcusolver.so.10\n",
            "2021-06-14 08:54:48.898293: I tensorflow/stream_executor/platform/default/dso_loader.cc:48] Successfully opened dynamic library libcusparse.so.10\n",
            "2021-06-14 08:54:48.902336: I tensorflow/stream_executor/platform/default/dso_loader.cc:48] Successfully opened dynamic library libcudnn.so.7\n",
            "2021-06-14 08:54:48.902453: I tensorflow/stream_executor/cuda/cuda_gpu_executor.cc:982] successful NUMA node read from SysFS had negative value (-1), but there must be at least one NUMA node, so returning NUMA node zero\n",
            "2021-06-14 08:54:48.903040: I tensorflow/stream_executor/cuda/cuda_gpu_executor.cc:982] successful NUMA node read from SysFS had negative value (-1), but there must be at least one NUMA node, so returning NUMA node zero\n",
            "2021-06-14 08:54:48.903537: I tensorflow/core/common_runtime/gpu/gpu_device.cc:1858] Adding visible gpu devices: 0\n",
            "2021-06-14 08:54:48.903994: I tensorflow/core/platform/cpu_feature_guard.cc:142] This TensorFlow binary is optimized with oneAPI Deep Neural Network Library (oneDNN)to use the following CPU instructions in performance-critical operations:  AVX2 FMA\n",
            "To enable them in other operations, rebuild TensorFlow with the appropriate compiler flags.\n",
            "2021-06-14 08:54:48.909093: I tensorflow/core/platform/profile_utils/cpu_utils.cc:104] CPU Frequency: 2199995000 Hz\n",
            "2021-06-14 08:54:48.909274: I tensorflow/compiler/xla/service/service.cc:168] XLA service 0x55629be96bc0 initialized for platform Host (this does not guarantee that XLA will be used). Devices:\n",
            "2021-06-14 08:54:48.909300: I tensorflow/compiler/xla/service/service.cc:176]   StreamExecutor device (0): Host, Default Version\n",
            "2021-06-14 08:54:49.111428: I tensorflow/stream_executor/cuda/cuda_gpu_executor.cc:982] successful NUMA node read from SysFS had negative value (-1), but there must be at least one NUMA node, so returning NUMA node zero\n",
            "2021-06-14 08:54:49.112186: I tensorflow/compiler/xla/service/service.cc:168] XLA service 0x55629be96d80 initialized for platform CUDA (this does not guarantee that XLA will be used). Devices:\n",
            "2021-06-14 08:54:49.112215: I tensorflow/compiler/xla/service/service.cc:176]   StreamExecutor device (0): Tesla T4, Compute Capability 7.5\n",
            "2021-06-14 08:54:49.112428: I tensorflow/stream_executor/cuda/cuda_gpu_executor.cc:982] successful NUMA node read from SysFS had negative value (-1), but there must be at least one NUMA node, so returning NUMA node zero\n",
            "2021-06-14 08:54:49.113017: I tensorflow/core/common_runtime/gpu/gpu_device.cc:1716] Found device 0 with properties: \n",
            "pciBusID: 0000:00:04.0 name: Tesla T4 computeCapability: 7.5\n",
            "coreClock: 1.59GHz coreCount: 40 deviceMemorySize: 14.75GiB deviceMemoryBandwidth: 298.08GiB/s\n",
            "2021-06-14 08:54:49.113061: I tensorflow/stream_executor/platform/default/dso_loader.cc:48] Successfully opened dynamic library libcudart.so.10.1\n",
            "2021-06-14 08:54:49.113111: I tensorflow/stream_executor/platform/default/dso_loader.cc:48] Successfully opened dynamic library libcublas.so.10\n",
            "2021-06-14 08:54:49.113131: I tensorflow/stream_executor/platform/default/dso_loader.cc:48] Successfully opened dynamic library libcufft.so.10\n",
            "2021-06-14 08:54:49.113150: I tensorflow/stream_executor/platform/default/dso_loader.cc:48] Successfully opened dynamic library libcurand.so.10\n",
            "2021-06-14 08:54:49.113167: I tensorflow/stream_executor/platform/default/dso_loader.cc:48] Successfully opened dynamic library libcusolver.so.10\n",
            "2021-06-14 08:54:49.113184: I tensorflow/stream_executor/platform/default/dso_loader.cc:48] Successfully opened dynamic library libcusparse.so.10\n",
            "2021-06-14 08:54:49.113202: I tensorflow/stream_executor/platform/default/dso_loader.cc:48] Successfully opened dynamic library libcudnn.so.7\n",
            "2021-06-14 08:54:49.113272: I tensorflow/stream_executor/cuda/cuda_gpu_executor.cc:982] successful NUMA node read from SysFS had negative value (-1), but there must be at least one NUMA node, so returning NUMA node zero\n",
            "2021-06-14 08:54:49.113861: I tensorflow/stream_executor/cuda/cuda_gpu_executor.cc:982] successful NUMA node read from SysFS had negative value (-1), but there must be at least one NUMA node, so returning NUMA node zero\n",
            "2021-06-14 08:54:49.114351: I tensorflow/core/common_runtime/gpu/gpu_device.cc:1858] Adding visible gpu devices: 0\n",
            "2021-06-14 08:54:49.114401: I tensorflow/stream_executor/platform/default/dso_loader.cc:48] Successfully opened dynamic library libcudart.so.10.1\n",
            "2021-06-14 08:54:49.614873: I tensorflow/core/common_runtime/gpu/gpu_device.cc:1257] Device interconnect StreamExecutor with strength 1 edge matrix:\n",
            "2021-06-14 08:54:49.614928: I tensorflow/core/common_runtime/gpu/gpu_device.cc:1263]      0 \n",
            "2021-06-14 08:54:49.614940: I tensorflow/core/common_runtime/gpu/gpu_device.cc:1276] 0:   N \n",
            "2021-06-14 08:54:49.615143: I tensorflow/stream_executor/cuda/cuda_gpu_executor.cc:982] successful NUMA node read from SysFS had negative value (-1), but there must be at least one NUMA node, so returning NUMA node zero\n",
            "2021-06-14 08:54:49.615729: I tensorflow/stream_executor/cuda/cuda_gpu_executor.cc:982] successful NUMA node read from SysFS had negative value (-1), but there must be at least one NUMA node, so returning NUMA node zero\n",
            "2021-06-14 08:54:49.616280: I tensorflow/core/common_runtime/gpu/gpu_device.cc:1402] Created TensorFlow device (/job:localhost/replica:0/task:0/device:GPU:0 with 13970 MB memory) -> physical GPU (device: 0, name: Tesla T4, pci bus id: 0000:00:04.0, compute capability: 7.5)\n",
            "1 Physical GPUs, 1 Logical GPUs\n",
            "Creating model, this may take a second...\n",
            "Model: \"retinanet\"\n",
            "__________________________________________________________________________________________________\n",
            "Layer (type)                    Output Shape         Param #     Connected to                     \n",
            "==================================================================================================\n",
            "input_1 (InputLayer)            [(None, None, None,  0                                            \n",
            "__________________________________________________________________________________________________\n",
            "conv1 (Conv2D)                  (None, None, None, 6 9408        input_1[0][0]                    \n",
            "__________________________________________________________________________________________________\n",
            "bn_conv1 (BatchNormalization)   (None, None, None, 6 256         conv1[0][0]                      \n",
            "__________________________________________________________________________________________________\n",
            "conv1_relu (Activation)         (None, None, None, 6 0           bn_conv1[0][0]                   \n",
            "__________________________________________________________________________________________________\n",
            "pool1 (MaxPooling2D)            (None, None, None, 6 0           conv1_relu[0][0]                 \n",
            "__________________________________________________________________________________________________\n",
            "res2a_branch2a (Conv2D)         (None, None, None, 6 4096        pool1[0][0]                      \n",
            "__________________________________________________________________________________________________\n",
            "bn2a_branch2a (BatchNormalizati (None, None, None, 6 256         res2a_branch2a[0][0]             \n",
            "__________________________________________________________________________________________________\n",
            "res2a_branch2a_relu (Activation (None, None, None, 6 0           bn2a_branch2a[0][0]              \n",
            "__________________________________________________________________________________________________\n",
            "padding2a_branch2b (ZeroPadding (None, None, None, 6 0           res2a_branch2a_relu[0][0]        \n",
            "__________________________________________________________________________________________________\n",
            "res2a_branch2b (Conv2D)         (None, None, None, 6 36864       padding2a_branch2b[0][0]         \n",
            "__________________________________________________________________________________________________\n",
            "bn2a_branch2b (BatchNormalizati (None, None, None, 6 256         res2a_branch2b[0][0]             \n",
            "__________________________________________________________________________________________________\n",
            "res2a_branch2b_relu (Activation (None, None, None, 6 0           bn2a_branch2b[0][0]              \n",
            "__________________________________________________________________________________________________\n",
            "res2a_branch2c (Conv2D)         (None, None, None, 2 16384       res2a_branch2b_relu[0][0]        \n",
            "__________________________________________________________________________________________________\n",
            "res2a_branch1 (Conv2D)          (None, None, None, 2 16384       pool1[0][0]                      \n",
            "__________________________________________________________________________________________________\n",
            "bn2a_branch2c (BatchNormalizati (None, None, None, 2 1024        res2a_branch2c[0][0]             \n",
            "__________________________________________________________________________________________________\n",
            "bn2a_branch1 (BatchNormalizatio (None, None, None, 2 1024        res2a_branch1[0][0]              \n",
            "__________________________________________________________________________________________________\n",
            "res2a (Add)                     (None, None, None, 2 0           bn2a_branch2c[0][0]              \n",
            "                                                                 bn2a_branch1[0][0]               \n",
            "__________________________________________________________________________________________________\n",
            "res2a_relu (Activation)         (None, None, None, 2 0           res2a[0][0]                      \n",
            "__________________________________________________________________________________________________\n",
            "res2b_branch2a (Conv2D)         (None, None, None, 6 16384       res2a_relu[0][0]                 \n",
            "__________________________________________________________________________________________________\n",
            "bn2b_branch2a (BatchNormalizati (None, None, None, 6 256         res2b_branch2a[0][0]             \n",
            "__________________________________________________________________________________________________\n",
            "res2b_branch2a_relu (Activation (None, None, None, 6 0           bn2b_branch2a[0][0]              \n",
            "__________________________________________________________________________________________________\n",
            "padding2b_branch2b (ZeroPadding (None, None, None, 6 0           res2b_branch2a_relu[0][0]        \n",
            "__________________________________________________________________________________________________\n",
            "res2b_branch2b (Conv2D)         (None, None, None, 6 36864       padding2b_branch2b[0][0]         \n",
            "__________________________________________________________________________________________________\n",
            "bn2b_branch2b (BatchNormalizati (None, None, None, 6 256         res2b_branch2b[0][0]             \n",
            "__________________________________________________________________________________________________\n",
            "res2b_branch2b_relu (Activation (None, None, None, 6 0           bn2b_branch2b[0][0]              \n",
            "__________________________________________________________________________________________________\n",
            "res2b_branch2c (Conv2D)         (None, None, None, 2 16384       res2b_branch2b_relu[0][0]        \n",
            "__________________________________________________________________________________________________\n",
            "bn2b_branch2c (BatchNormalizati (None, None, None, 2 1024        res2b_branch2c[0][0]             \n",
            "__________________________________________________________________________________________________\n",
            "res2b (Add)                     (None, None, None, 2 0           bn2b_branch2c[0][0]              \n",
            "                                                                 res2a_relu[0][0]                 \n",
            "__________________________________________________________________________________________________\n",
            "res2b_relu (Activation)         (None, None, None, 2 0           res2b[0][0]                      \n",
            "__________________________________________________________________________________________________\n",
            "res2c_branch2a (Conv2D)         (None, None, None, 6 16384       res2b_relu[0][0]                 \n",
            "__________________________________________________________________________________________________\n",
            "bn2c_branch2a (BatchNormalizati (None, None, None, 6 256         res2c_branch2a[0][0]             \n",
            "__________________________________________________________________________________________________\n",
            "res2c_branch2a_relu (Activation (None, None, None, 6 0           bn2c_branch2a[0][0]              \n",
            "__________________________________________________________________________________________________\n",
            "padding2c_branch2b (ZeroPadding (None, None, None, 6 0           res2c_branch2a_relu[0][0]        \n",
            "__________________________________________________________________________________________________\n",
            "res2c_branch2b (Conv2D)         (None, None, None, 6 36864       padding2c_branch2b[0][0]         \n",
            "__________________________________________________________________________________________________\n",
            "bn2c_branch2b (BatchNormalizati (None, None, None, 6 256         res2c_branch2b[0][0]             \n",
            "__________________________________________________________________________________________________\n",
            "res2c_branch2b_relu (Activation (None, None, None, 6 0           bn2c_branch2b[0][0]              \n",
            "__________________________________________________________________________________________________\n",
            "res2c_branch2c (Conv2D)         (None, None, None, 2 16384       res2c_branch2b_relu[0][0]        \n",
            "__________________________________________________________________________________________________\n",
            "bn2c_branch2c (BatchNormalizati (None, None, None, 2 1024        res2c_branch2c[0][0]             \n",
            "__________________________________________________________________________________________________\n",
            "res2c (Add)                     (None, None, None, 2 0           bn2c_branch2c[0][0]              \n",
            "                                                                 res2b_relu[0][0]                 \n",
            "__________________________________________________________________________________________________\n",
            "res2c_relu (Activation)         (None, None, None, 2 0           res2c[0][0]                      \n",
            "__________________________________________________________________________________________________\n",
            "res3a_branch2a (Conv2D)         (None, None, None, 1 32768       res2c_relu[0][0]                 \n",
            "__________________________________________________________________________________________________\n",
            "bn3a_branch2a (BatchNormalizati (None, None, None, 1 512         res3a_branch2a[0][0]             \n",
            "__________________________________________________________________________________________________\n",
            "res3a_branch2a_relu (Activation (None, None, None, 1 0           bn3a_branch2a[0][0]              \n",
            "__________________________________________________________________________________________________\n",
            "padding3a_branch2b (ZeroPadding (None, None, None, 1 0           res3a_branch2a_relu[0][0]        \n",
            "__________________________________________________________________________________________________\n",
            "res3a_branch2b (Conv2D)         (None, None, None, 1 147456      padding3a_branch2b[0][0]         \n",
            "__________________________________________________________________________________________________\n",
            "bn3a_branch2b (BatchNormalizati (None, None, None, 1 512         res3a_branch2b[0][0]             \n",
            "__________________________________________________________________________________________________\n",
            "res3a_branch2b_relu (Activation (None, None, None, 1 0           bn3a_branch2b[0][0]              \n",
            "__________________________________________________________________________________________________\n",
            "res3a_branch2c (Conv2D)         (None, None, None, 5 65536       res3a_branch2b_relu[0][0]        \n",
            "__________________________________________________________________________________________________\n",
            "res3a_branch1 (Conv2D)          (None, None, None, 5 131072      res2c_relu[0][0]                 \n",
            "__________________________________________________________________________________________________\n",
            "bn3a_branch2c (BatchNormalizati (None, None, None, 5 2048        res3a_branch2c[0][0]             \n",
            "__________________________________________________________________________________________________\n",
            "bn3a_branch1 (BatchNormalizatio (None, None, None, 5 2048        res3a_branch1[0][0]              \n",
            "__________________________________________________________________________________________________\n",
            "res3a (Add)                     (None, None, None, 5 0           bn3a_branch2c[0][0]              \n",
            "                                                                 bn3a_branch1[0][0]               \n",
            "__________________________________________________________________________________________________\n",
            "res3a_relu (Activation)         (None, None, None, 5 0           res3a[0][0]                      \n",
            "__________________________________________________________________________________________________\n",
            "res3b_branch2a (Conv2D)         (None, None, None, 1 65536       res3a_relu[0][0]                 \n",
            "__________________________________________________________________________________________________\n",
            "bn3b_branch2a (BatchNormalizati (None, None, None, 1 512         res3b_branch2a[0][0]             \n",
            "__________________________________________________________________________________________________\n",
            "res3b_branch2a_relu (Activation (None, None, None, 1 0           bn3b_branch2a[0][0]              \n",
            "__________________________________________________________________________________________________\n",
            "padding3b_branch2b (ZeroPadding (None, None, None, 1 0           res3b_branch2a_relu[0][0]        \n",
            "__________________________________________________________________________________________________\n",
            "res3b_branch2b (Conv2D)         (None, None, None, 1 147456      padding3b_branch2b[0][0]         \n",
            "__________________________________________________________________________________________________\n",
            "bn3b_branch2b (BatchNormalizati (None, None, None, 1 512         res3b_branch2b[0][0]             \n",
            "__________________________________________________________________________________________________\n",
            "res3b_branch2b_relu (Activation (None, None, None, 1 0           bn3b_branch2b[0][0]              \n",
            "__________________________________________________________________________________________________\n",
            "res3b_branch2c (Conv2D)         (None, None, None, 5 65536       res3b_branch2b_relu[0][0]        \n",
            "__________________________________________________________________________________________________\n",
            "bn3b_branch2c (BatchNormalizati (None, None, None, 5 2048        res3b_branch2c[0][0]             \n",
            "__________________________________________________________________________________________________\n",
            "res3b (Add)                     (None, None, None, 5 0           bn3b_branch2c[0][0]              \n",
            "                                                                 res3a_relu[0][0]                 \n",
            "__________________________________________________________________________________________________\n",
            "res3b_relu (Activation)         (None, None, None, 5 0           res3b[0][0]                      \n",
            "__________________________________________________________________________________________________\n",
            "res3c_branch2a (Conv2D)         (None, None, None, 1 65536       res3b_relu[0][0]                 \n",
            "__________________________________________________________________________________________________\n",
            "bn3c_branch2a (BatchNormalizati (None, None, None, 1 512         res3c_branch2a[0][0]             \n",
            "__________________________________________________________________________________________________\n",
            "res3c_branch2a_relu (Activation (None, None, None, 1 0           bn3c_branch2a[0][0]              \n",
            "__________________________________________________________________________________________________\n",
            "padding3c_branch2b (ZeroPadding (None, None, None, 1 0           res3c_branch2a_relu[0][0]        \n",
            "__________________________________________________________________________________________________\n",
            "res3c_branch2b (Conv2D)         (None, None, None, 1 147456      padding3c_branch2b[0][0]         \n",
            "__________________________________________________________________________________________________\n",
            "bn3c_branch2b (BatchNormalizati (None, None, None, 1 512         res3c_branch2b[0][0]             \n",
            "__________________________________________________________________________________________________\n",
            "res3c_branch2b_relu (Activation (None, None, None, 1 0           bn3c_branch2b[0][0]              \n",
            "__________________________________________________________________________________________________\n",
            "res3c_branch2c (Conv2D)         (None, None, None, 5 65536       res3c_branch2b_relu[0][0]        \n",
            "__________________________________________________________________________________________________\n",
            "bn3c_branch2c (BatchNormalizati (None, None, None, 5 2048        res3c_branch2c[0][0]             \n",
            "__________________________________________________________________________________________________\n",
            "res3c (Add)                     (None, None, None, 5 0           bn3c_branch2c[0][0]              \n",
            "                                                                 res3b_relu[0][0]                 \n",
            "__________________________________________________________________________________________________\n",
            "res3c_relu (Activation)         (None, None, None, 5 0           res3c[0][0]                      \n",
            "__________________________________________________________________________________________________\n",
            "res3d_branch2a (Conv2D)         (None, None, None, 1 65536       res3c_relu[0][0]                 \n",
            "__________________________________________________________________________________________________\n",
            "bn3d_branch2a (BatchNormalizati (None, None, None, 1 512         res3d_branch2a[0][0]             \n",
            "__________________________________________________________________________________________________\n",
            "res3d_branch2a_relu (Activation (None, None, None, 1 0           bn3d_branch2a[0][0]              \n",
            "__________________________________________________________________________________________________\n",
            "padding3d_branch2b (ZeroPadding (None, None, None, 1 0           res3d_branch2a_relu[0][0]        \n",
            "__________________________________________________________________________________________________\n",
            "res3d_branch2b (Conv2D)         (None, None, None, 1 147456      padding3d_branch2b[0][0]         \n",
            "__________________________________________________________________________________________________\n",
            "bn3d_branch2b (BatchNormalizati (None, None, None, 1 512         res3d_branch2b[0][0]             \n",
            "__________________________________________________________________________________________________\n",
            "res3d_branch2b_relu (Activation (None, None, None, 1 0           bn3d_branch2b[0][0]              \n",
            "__________________________________________________________________________________________________\n",
            "res3d_branch2c (Conv2D)         (None, None, None, 5 65536       res3d_branch2b_relu[0][0]        \n",
            "__________________________________________________________________________________________________\n",
            "bn3d_branch2c (BatchNormalizati (None, None, None, 5 2048        res3d_branch2c[0][0]             \n",
            "__________________________________________________________________________________________________\n",
            "res3d (Add)                     (None, None, None, 5 0           bn3d_branch2c[0][0]              \n",
            "                                                                 res3c_relu[0][0]                 \n",
            "__________________________________________________________________________________________________\n",
            "res3d_relu (Activation)         (None, None, None, 5 0           res3d[0][0]                      \n",
            "__________________________________________________________________________________________________\n",
            "res4a_branch2a (Conv2D)         (None, None, None, 2 131072      res3d_relu[0][0]                 \n",
            "__________________________________________________________________________________________________\n",
            "bn4a_branch2a (BatchNormalizati (None, None, None, 2 1024        res4a_branch2a[0][0]             \n",
            "__________________________________________________________________________________________________\n",
            "res4a_branch2a_relu (Activation (None, None, None, 2 0           bn4a_branch2a[0][0]              \n",
            "__________________________________________________________________________________________________\n",
            "padding4a_branch2b (ZeroPadding (None, None, None, 2 0           res4a_branch2a_relu[0][0]        \n",
            "__________________________________________________________________________________________________\n",
            "res4a_branch2b (Conv2D)         (None, None, None, 2 589824      padding4a_branch2b[0][0]         \n",
            "__________________________________________________________________________________________________\n",
            "bn4a_branch2b (BatchNormalizati (None, None, None, 2 1024        res4a_branch2b[0][0]             \n",
            "__________________________________________________________________________________________________\n",
            "res4a_branch2b_relu (Activation (None, None, None, 2 0           bn4a_branch2b[0][0]              \n",
            "__________________________________________________________________________________________________\n",
            "res4a_branch2c (Conv2D)         (None, None, None, 1 262144      res4a_branch2b_relu[0][0]        \n",
            "__________________________________________________________________________________________________\n",
            "res4a_branch1 (Conv2D)          (None, None, None, 1 524288      res3d_relu[0][0]                 \n",
            "__________________________________________________________________________________________________\n",
            "bn4a_branch2c (BatchNormalizati (None, None, None, 1 4096        res4a_branch2c[0][0]             \n",
            "__________________________________________________________________________________________________\n",
            "bn4a_branch1 (BatchNormalizatio (None, None, None, 1 4096        res4a_branch1[0][0]              \n",
            "__________________________________________________________________________________________________\n",
            "res4a (Add)                     (None, None, None, 1 0           bn4a_branch2c[0][0]              \n",
            "                                                                 bn4a_branch1[0][0]               \n",
            "__________________________________________________________________________________________________\n",
            "res4a_relu (Activation)         (None, None, None, 1 0           res4a[0][0]                      \n",
            "__________________________________________________________________________________________________\n",
            "res4b_branch2a (Conv2D)         (None, None, None, 2 262144      res4a_relu[0][0]                 \n",
            "__________________________________________________________________________________________________\n",
            "bn4b_branch2a (BatchNormalizati (None, None, None, 2 1024        res4b_branch2a[0][0]             \n",
            "__________________________________________________________________________________________________\n",
            "res4b_branch2a_relu (Activation (None, None, None, 2 0           bn4b_branch2a[0][0]              \n",
            "__________________________________________________________________________________________________\n",
            "padding4b_branch2b (ZeroPadding (None, None, None, 2 0           res4b_branch2a_relu[0][0]        \n",
            "__________________________________________________________________________________________________\n",
            "res4b_branch2b (Conv2D)         (None, None, None, 2 589824      padding4b_branch2b[0][0]         \n",
            "__________________________________________________________________________________________________\n",
            "bn4b_branch2b (BatchNormalizati (None, None, None, 2 1024        res4b_branch2b[0][0]             \n",
            "__________________________________________________________________________________________________\n",
            "res4b_branch2b_relu (Activation (None, None, None, 2 0           bn4b_branch2b[0][0]              \n",
            "__________________________________________________________________________________________________\n",
            "res4b_branch2c (Conv2D)         (None, None, None, 1 262144      res4b_branch2b_relu[0][0]        \n",
            "__________________________________________________________________________________________________\n",
            "bn4b_branch2c (BatchNormalizati (None, None, None, 1 4096        res4b_branch2c[0][0]             \n",
            "__________________________________________________________________________________________________\n",
            "res4b (Add)                     (None, None, None, 1 0           bn4b_branch2c[0][0]              \n",
            "                                                                 res4a_relu[0][0]                 \n",
            "__________________________________________________________________________________________________\n",
            "res4b_relu (Activation)         (None, None, None, 1 0           res4b[0][0]                      \n",
            "__________________________________________________________________________________________________\n",
            "res4c_branch2a (Conv2D)         (None, None, None, 2 262144      res4b_relu[0][0]                 \n",
            "__________________________________________________________________________________________________\n",
            "bn4c_branch2a (BatchNormalizati (None, None, None, 2 1024        res4c_branch2a[0][0]             \n",
            "__________________________________________________________________________________________________\n",
            "res4c_branch2a_relu (Activation (None, None, None, 2 0           bn4c_branch2a[0][0]              \n",
            "__________________________________________________________________________________________________\n",
            "padding4c_branch2b (ZeroPadding (None, None, None, 2 0           res4c_branch2a_relu[0][0]        \n",
            "__________________________________________________________________________________________________\n",
            "res4c_branch2b (Conv2D)         (None, None, None, 2 589824      padding4c_branch2b[0][0]         \n",
            "__________________________________________________________________________________________________\n",
            "bn4c_branch2b (BatchNormalizati (None, None, None, 2 1024        res4c_branch2b[0][0]             \n",
            "__________________________________________________________________________________________________\n",
            "res4c_branch2b_relu (Activation (None, None, None, 2 0           bn4c_branch2b[0][0]              \n",
            "__________________________________________________________________________________________________\n",
            "res4c_branch2c (Conv2D)         (None, None, None, 1 262144      res4c_branch2b_relu[0][0]        \n",
            "__________________________________________________________________________________________________\n",
            "bn4c_branch2c (BatchNormalizati (None, None, None, 1 4096        res4c_branch2c[0][0]             \n",
            "__________________________________________________________________________________________________\n",
            "res4c (Add)                     (None, None, None, 1 0           bn4c_branch2c[0][0]              \n",
            "                                                                 res4b_relu[0][0]                 \n",
            "__________________________________________________________________________________________________\n",
            "res4c_relu (Activation)         (None, None, None, 1 0           res4c[0][0]                      \n",
            "__________________________________________________________________________________________________\n",
            "res4d_branch2a (Conv2D)         (None, None, None, 2 262144      res4c_relu[0][0]                 \n",
            "__________________________________________________________________________________________________\n",
            "bn4d_branch2a (BatchNormalizati (None, None, None, 2 1024        res4d_branch2a[0][0]             \n",
            "__________________________________________________________________________________________________\n",
            "res4d_branch2a_relu (Activation (None, None, None, 2 0           bn4d_branch2a[0][0]              \n",
            "__________________________________________________________________________________________________\n",
            "padding4d_branch2b (ZeroPadding (None, None, None, 2 0           res4d_branch2a_relu[0][0]        \n",
            "__________________________________________________________________________________________________\n",
            "res4d_branch2b (Conv2D)         (None, None, None, 2 589824      padding4d_branch2b[0][0]         \n",
            "__________________________________________________________________________________________________\n",
            "bn4d_branch2b (BatchNormalizati (None, None, None, 2 1024        res4d_branch2b[0][0]             \n",
            "__________________________________________________________________________________________________\n",
            "res4d_branch2b_relu (Activation (None, None, None, 2 0           bn4d_branch2b[0][0]              \n",
            "__________________________________________________________________________________________________\n",
            "res4d_branch2c (Conv2D)         (None, None, None, 1 262144      res4d_branch2b_relu[0][0]        \n",
            "__________________________________________________________________________________________________\n",
            "bn4d_branch2c (BatchNormalizati (None, None, None, 1 4096        res4d_branch2c[0][0]             \n",
            "__________________________________________________________________________________________________\n",
            "res4d (Add)                     (None, None, None, 1 0           bn4d_branch2c[0][0]              \n",
            "                                                                 res4c_relu[0][0]                 \n",
            "__________________________________________________________________________________________________\n",
            "res4d_relu (Activation)         (None, None, None, 1 0           res4d[0][0]                      \n",
            "__________________________________________________________________________________________________\n",
            "res4e_branch2a (Conv2D)         (None, None, None, 2 262144      res4d_relu[0][0]                 \n",
            "__________________________________________________________________________________________________\n",
            "bn4e_branch2a (BatchNormalizati (None, None, None, 2 1024        res4e_branch2a[0][0]             \n",
            "__________________________________________________________________________________________________\n",
            "res4e_branch2a_relu (Activation (None, None, None, 2 0           bn4e_branch2a[0][0]              \n",
            "__________________________________________________________________________________________________\n",
            "padding4e_branch2b (ZeroPadding (None, None, None, 2 0           res4e_branch2a_relu[0][0]        \n",
            "__________________________________________________________________________________________________\n",
            "res4e_branch2b (Conv2D)         (None, None, None, 2 589824      padding4e_branch2b[0][0]         \n",
            "__________________________________________________________________________________________________\n",
            "bn4e_branch2b (BatchNormalizati (None, None, None, 2 1024        res4e_branch2b[0][0]             \n",
            "__________________________________________________________________________________________________\n",
            "res4e_branch2b_relu (Activation (None, None, None, 2 0           bn4e_branch2b[0][0]              \n",
            "__________________________________________________________________________________________________\n",
            "res4e_branch2c (Conv2D)         (None, None, None, 1 262144      res4e_branch2b_relu[0][0]        \n",
            "__________________________________________________________________________________________________\n",
            "bn4e_branch2c (BatchNormalizati (None, None, None, 1 4096        res4e_branch2c[0][0]             \n",
            "__________________________________________________________________________________________________\n",
            "res4e (Add)                     (None, None, None, 1 0           bn4e_branch2c[0][0]              \n",
            "                                                                 res4d_relu[0][0]                 \n",
            "__________________________________________________________________________________________________\n",
            "res4e_relu (Activation)         (None, None, None, 1 0           res4e[0][0]                      \n",
            "__________________________________________________________________________________________________\n",
            "res4f_branch2a (Conv2D)         (None, None, None, 2 262144      res4e_relu[0][0]                 \n",
            "__________________________________________________________________________________________________\n",
            "bn4f_branch2a (BatchNormalizati (None, None, None, 2 1024        res4f_branch2a[0][0]             \n",
            "__________________________________________________________________________________________________\n",
            "res4f_branch2a_relu (Activation (None, None, None, 2 0           bn4f_branch2a[0][0]              \n",
            "__________________________________________________________________________________________________\n",
            "padding4f_branch2b (ZeroPadding (None, None, None, 2 0           res4f_branch2a_relu[0][0]        \n",
            "__________________________________________________________________________________________________\n",
            "res4f_branch2b (Conv2D)         (None, None, None, 2 589824      padding4f_branch2b[0][0]         \n",
            "__________________________________________________________________________________________________\n",
            "bn4f_branch2b (BatchNormalizati (None, None, None, 2 1024        res4f_branch2b[0][0]             \n",
            "__________________________________________________________________________________________________\n",
            "res4f_branch2b_relu (Activation (None, None, None, 2 0           bn4f_branch2b[0][0]              \n",
            "__________________________________________________________________________________________________\n",
            "res4f_branch2c (Conv2D)         (None, None, None, 1 262144      res4f_branch2b_relu[0][0]        \n",
            "__________________________________________________________________________________________________\n",
            "bn4f_branch2c (BatchNormalizati (None, None, None, 1 4096        res4f_branch2c[0][0]             \n",
            "__________________________________________________________________________________________________\n",
            "res4f (Add)                     (None, None, None, 1 0           bn4f_branch2c[0][0]              \n",
            "                                                                 res4e_relu[0][0]                 \n",
            "__________________________________________________________________________________________________\n",
            "res4f_relu (Activation)         (None, None, None, 1 0           res4f[0][0]                      \n",
            "__________________________________________________________________________________________________\n",
            "res5a_branch2a (Conv2D)         (None, None, None, 5 524288      res4f_relu[0][0]                 \n",
            "__________________________________________________________________________________________________\n",
            "bn5a_branch2a (BatchNormalizati (None, None, None, 5 2048        res5a_branch2a[0][0]             \n",
            "__________________________________________________________________________________________________\n",
            "res5a_branch2a_relu (Activation (None, None, None, 5 0           bn5a_branch2a[0][0]              \n",
            "__________________________________________________________________________________________________\n",
            "padding5a_branch2b (ZeroPadding (None, None, None, 5 0           res5a_branch2a_relu[0][0]        \n",
            "__________________________________________________________________________________________________\n",
            "res5a_branch2b (Conv2D)         (None, None, None, 5 2359296     padding5a_branch2b[0][0]         \n",
            "__________________________________________________________________________________________________\n",
            "bn5a_branch2b (BatchNormalizati (None, None, None, 5 2048        res5a_branch2b[0][0]             \n",
            "__________________________________________________________________________________________________\n",
            "res5a_branch2b_relu (Activation (None, None, None, 5 0           bn5a_branch2b[0][0]              \n",
            "__________________________________________________________________________________________________\n",
            "res5a_branch2c (Conv2D)         (None, None, None, 2 1048576     res5a_branch2b_relu[0][0]        \n",
            "__________________________________________________________________________________________________\n",
            "res5a_branch1 (Conv2D)          (None, None, None, 2 2097152     res4f_relu[0][0]                 \n",
            "__________________________________________________________________________________________________\n",
            "bn5a_branch2c (BatchNormalizati (None, None, None, 2 8192        res5a_branch2c[0][0]             \n",
            "__________________________________________________________________________________________________\n",
            "bn5a_branch1 (BatchNormalizatio (None, None, None, 2 8192        res5a_branch1[0][0]              \n",
            "__________________________________________________________________________________________________\n",
            "res5a (Add)                     (None, None, None, 2 0           bn5a_branch2c[0][0]              \n",
            "                                                                 bn5a_branch1[0][0]               \n",
            "__________________________________________________________________________________________________\n",
            "res5a_relu (Activation)         (None, None, None, 2 0           res5a[0][0]                      \n",
            "__________________________________________________________________________________________________\n",
            "res5b_branch2a (Conv2D)         (None, None, None, 5 1048576     res5a_relu[0][0]                 \n",
            "__________________________________________________________________________________________________\n",
            "bn5b_branch2a (BatchNormalizati (None, None, None, 5 2048        res5b_branch2a[0][0]             \n",
            "__________________________________________________________________________________________________\n",
            "res5b_branch2a_relu (Activation (None, None, None, 5 0           bn5b_branch2a[0][0]              \n",
            "__________________________________________________________________________________________________\n",
            "padding5b_branch2b (ZeroPadding (None, None, None, 5 0           res5b_branch2a_relu[0][0]        \n",
            "__________________________________________________________________________________________________\n",
            "res5b_branch2b (Conv2D)         (None, None, None, 5 2359296     padding5b_branch2b[0][0]         \n",
            "__________________________________________________________________________________________________\n",
            "bn5b_branch2b (BatchNormalizati (None, None, None, 5 2048        res5b_branch2b[0][0]             \n",
            "__________________________________________________________________________________________________\n",
            "res5b_branch2b_relu (Activation (None, None, None, 5 0           bn5b_branch2b[0][0]              \n",
            "__________________________________________________________________________________________________\n",
            "res5b_branch2c (Conv2D)         (None, None, None, 2 1048576     res5b_branch2b_relu[0][0]        \n",
            "__________________________________________________________________________________________________\n",
            "bn5b_branch2c (BatchNormalizati (None, None, None, 2 8192        res5b_branch2c[0][0]             \n",
            "__________________________________________________________________________________________________\n",
            "res5b (Add)                     (None, None, None, 2 0           bn5b_branch2c[0][0]              \n",
            "                                                                 res5a_relu[0][0]                 \n",
            "__________________________________________________________________________________________________\n",
            "res5b_relu (Activation)         (None, None, None, 2 0           res5b[0][0]                      \n",
            "__________________________________________________________________________________________________\n",
            "res5c_branch2a (Conv2D)         (None, None, None, 5 1048576     res5b_relu[0][0]                 \n",
            "__________________________________________________________________________________________________\n",
            "bn5c_branch2a (BatchNormalizati (None, None, None, 5 2048        res5c_branch2a[0][0]             \n",
            "__________________________________________________________________________________________________\n",
            "res5c_branch2a_relu (Activation (None, None, None, 5 0           bn5c_branch2a[0][0]              \n",
            "__________________________________________________________________________________________________\n",
            "padding5c_branch2b (ZeroPadding (None, None, None, 5 0           res5c_branch2a_relu[0][0]        \n",
            "__________________________________________________________________________________________________\n",
            "res5c_branch2b (Conv2D)         (None, None, None, 5 2359296     padding5c_branch2b[0][0]         \n",
            "__________________________________________________________________________________________________\n",
            "bn5c_branch2b (BatchNormalizati (None, None, None, 5 2048        res5c_branch2b[0][0]             \n",
            "__________________________________________________________________________________________________\n",
            "res5c_branch2b_relu (Activation (None, None, None, 5 0           bn5c_branch2b[0][0]              \n",
            "__________________________________________________________________________________________________\n",
            "res5c_branch2c (Conv2D)         (None, None, None, 2 1048576     res5c_branch2b_relu[0][0]        \n",
            "__________________________________________________________________________________________________\n",
            "bn5c_branch2c (BatchNormalizati (None, None, None, 2 8192        res5c_branch2c[0][0]             \n",
            "__________________________________________________________________________________________________\n",
            "res5c (Add)                     (None, None, None, 2 0           bn5c_branch2c[0][0]              \n",
            "                                                                 res5b_relu[0][0]                 \n",
            "__________________________________________________________________________________________________\n",
            "res5c_relu (Activation)         (None, None, None, 2 0           res5c[0][0]                      \n",
            "__________________________________________________________________________________________________\n",
            "C5_reduced (Conv2D)             (None, None, None, 2 524544      res5c_relu[0][0]                 \n",
            "__________________________________________________________________________________________________\n",
            "P5_upsampled (UpsampleLike)     (None, None, None, 2 0           C5_reduced[0][0]                 \n",
            "                                                                 res4f_relu[0][0]                 \n",
            "__________________________________________________________________________________________________\n",
            "C4_reduced (Conv2D)             (None, None, None, 2 262400      res4f_relu[0][0]                 \n",
            "__________________________________________________________________________________________________\n",
            "P4_merged (Add)                 (None, None, None, 2 0           P5_upsampled[0][0]               \n",
            "                                                                 C4_reduced[0][0]                 \n",
            "__________________________________________________________________________________________________\n",
            "P4_upsampled (UpsampleLike)     (None, None, None, 2 0           P4_merged[0][0]                  \n",
            "                                                                 res3d_relu[0][0]                 \n",
            "__________________________________________________________________________________________________\n",
            "C3_reduced (Conv2D)             (None, None, None, 2 131328      res3d_relu[0][0]                 \n",
            "__________________________________________________________________________________________________\n",
            "P6 (Conv2D)                     (None, None, None, 2 4718848     res5c_relu[0][0]                 \n",
            "__________________________________________________________________________________________________\n",
            "P3_merged (Add)                 (None, None, None, 2 0           P4_upsampled[0][0]               \n",
            "                                                                 C3_reduced[0][0]                 \n",
            "__________________________________________________________________________________________________\n",
            "C6_relu (Activation)            (None, None, None, 2 0           P6[0][0]                         \n",
            "__________________________________________________________________________________________________\n",
            "P3 (Conv2D)                     (None, None, None, 2 590080      P3_merged[0][0]                  \n",
            "__________________________________________________________________________________________________\n",
            "P4 (Conv2D)                     (None, None, None, 2 590080      P4_merged[0][0]                  \n",
            "__________________________________________________________________________________________________\n",
            "P5 (Conv2D)                     (None, None, None, 2 590080      C5_reduced[0][0]                 \n",
            "__________________________________________________________________________________________________\n",
            "P7 (Conv2D)                     (None, None, None, 2 590080      C6_relu[0][0]                    \n",
            "__________________________________________________________________________________________________\n",
            "regression_submodel (Functional (None, None, 4)      2369540     P3[0][0]                         \n",
            "                                                                 P4[0][0]                         \n",
            "                                                                 P5[0][0]                         \n",
            "                                                                 P6[0][0]                         \n",
            "                                                                 P7[0][0]                         \n",
            "__________________________________________________________________________________________________\n",
            "classification_submodel (Functi (None, None, 1)      2362625     P3[0][0]                         \n",
            "                                                                 P4[0][0]                         \n",
            "                                                                 P5[0][0]                         \n",
            "                                                                 P6[0][0]                         \n",
            "                                                                 P7[0][0]                         \n",
            "__________________________________________________________________________________________________\n",
            "regression (Concatenate)        (None, None, 4)      0           regression_submodel[0][0]        \n",
            "                                                                 regression_submodel[1][0]        \n",
            "                                                                 regression_submodel[2][0]        \n",
            "                                                                 regression_submodel[3][0]        \n",
            "                                                                 regression_submodel[4][0]        \n",
            "__________________________________________________________________________________________________\n",
            "classification (Concatenate)    (None, None, 1)      0           classification_submodel[0][0]    \n",
            "                                                                 classification_submodel[1][0]    \n",
            "                                                                 classification_submodel[2][0]    \n",
            "                                                                 classification_submodel[3][0]    \n",
            "                                                                 classification_submodel[4][0]    \n",
            "==================================================================================================\n",
            "Total params: 36,290,757\n",
            "Trainable params: 36,184,517\n",
            "Non-trainable params: 106,240\n",
            "__________________________________________________________________________________________________\n",
            "None\n",
            "WARNING:tensorflow:From keras_retinanet/bin/train.py:548: Model.fit_generator (from tensorflow.python.keras.engine.training) is deprecated and will be removed in a future version.\n",
            "Instructions for updating:\n",
            "Please use Model.fit, which supports generators.\n",
            "Epoch 1/50\n",
            "2021-06-14 08:55:00.190846: I tensorflow/stream_executor/platform/default/dso_loader.cc:48] Successfully opened dynamic library libcudnn.so.7\n",
            "2021-06-14 08:55:01.485033: I tensorflow/stream_executor/platform/default/dso_loader.cc:48] Successfully opened dynamic library libcublas.so.10\n",
            "283/283 [==============================] - ETA: 0s - loss: 2.0861 - regression_loss: 1.7635 - classification_loss: 0.3227\n",
            "Epoch 00001: saving model to ./snapshots/resnet50_csv_01.h5\n",
            "283/283 [==============================] - 216s 765ms/step - loss: 2.0861 - regression_loss: 1.7635 - classification_loss: 0.3227\n",
            "Epoch 2/50\n",
            "283/283 [==============================] - ETA: 0s - loss: 1.0504 - regression_loss: 0.9426 - classification_loss: 0.1077\n",
            "Epoch 00002: saving model to ./snapshots/resnet50_csv_02.h5\n",
            "283/283 [==============================] - 100s 352ms/step - loss: 1.0504 - regression_loss: 0.9426 - classification_loss: 0.1077\n",
            "Epoch 3/50\n",
            "283/283 [==============================] - ETA: 0s - loss: 0.8732 - regression_loss: 0.7902 - classification_loss: 0.0830\n",
            "Epoch 00003: saving model to ./snapshots/resnet50_csv_03.h5\n",
            "283/283 [==============================] - 100s 355ms/step - loss: 0.8732 - regression_loss: 0.7902 - classification_loss: 0.0830\n",
            "Epoch 4/50\n",
            "283/283 [==============================] - ETA: 0s - loss: 0.8007 - regression_loss: 0.7365 - classification_loss: 0.0642\n",
            "Epoch 00004: saving model to ./snapshots/resnet50_csv_04.h5\n",
            "283/283 [==============================] - 100s 354ms/step - loss: 0.8007 - regression_loss: 0.7365 - classification_loss: 0.0642\n",
            "Epoch 5/50\n",
            "283/283 [==============================] - ETA: 0s - loss: 0.7433 - regression_loss: 0.6912 - classification_loss: 0.0521\n",
            "Epoch 00005: saving model to ./snapshots/resnet50_csv_05.h5\n",
            "283/283 [==============================] - 100s 352ms/step - loss: 0.7433 - regression_loss: 0.6912 - classification_loss: 0.0521\n",
            "Epoch 6/50\n",
            "283/283 [==============================] - ETA: 0s - loss: 0.6969 - regression_loss: 0.6518 - classification_loss: 0.0451\n",
            "Epoch 00006: saving model to ./snapshots/resnet50_csv_06.h5\n",
            "283/283 [==============================] - 100s 353ms/step - loss: 0.6969 - regression_loss: 0.6518 - classification_loss: 0.0451\n",
            "Epoch 7/50\n",
            "283/283 [==============================] - ETA: 0s - loss: 0.6544 - regression_loss: 0.6175 - classification_loss: 0.0369\n",
            "Epoch 00007: saving model to ./snapshots/resnet50_csv_07.h5\n",
            "283/283 [==============================] - 100s 355ms/step - loss: 0.6544 - regression_loss: 0.6175 - classification_loss: 0.0369\n",
            "Epoch 8/50\n",
            "283/283 [==============================] - ETA: 0s - loss: 0.6422 - regression_loss: 0.6037 - classification_loss: 0.0385\n",
            "Epoch 00008: saving model to ./snapshots/resnet50_csv_08.h5\n",
            "283/283 [==============================] - 100s 355ms/step - loss: 0.6422 - regression_loss: 0.6037 - classification_loss: 0.0385\n",
            "Epoch 9/50\n",
            "283/283 [==============================] - ETA: 0s - loss: 0.5943 - regression_loss: 0.5651 - classification_loss: 0.0292\n",
            "Epoch 00009: saving model to ./snapshots/resnet50_csv_09.h5\n",
            "283/283 [==============================] - 101s 355ms/step - loss: 0.5943 - regression_loss: 0.5651 - classification_loss: 0.0292\n",
            "Epoch 10/50\n",
            "283/283 [==============================] - ETA: 0s - loss: 0.5893 - regression_loss: 0.5580 - classification_loss: 0.0313\n",
            "Epoch 00010: saving model to ./snapshots/resnet50_csv_10.h5\n",
            "283/283 [==============================] - 100s 354ms/step - loss: 0.5893 - regression_loss: 0.5580 - classification_loss: 0.0313\n",
            "Epoch 11/50\n",
            "283/283 [==============================] - ETA: 0s - loss: 0.5447 - regression_loss: 0.5203 - classification_loss: 0.0244\n",
            "Epoch 00011: saving model to ./snapshots/resnet50_csv_11.h5\n",
            "283/283 [==============================] - 100s 354ms/step - loss: 0.5447 - regression_loss: 0.5203 - classification_loss: 0.0244\n",
            "Epoch 12/50\n",
            "283/283 [==============================] - ETA: 0s - loss: 0.5339 - regression_loss: 0.5097 - classification_loss: 0.0242\n",
            "Epoch 00012: saving model to ./snapshots/resnet50_csv_12.h5\n",
            "283/283 [==============================] - 100s 354ms/step - loss: 0.5339 - regression_loss: 0.5097 - classification_loss: 0.0242\n",
            "Epoch 13/50\n",
            "283/283 [==============================] - ETA: 0s - loss: 0.5286 - regression_loss: 0.5062 - classification_loss: 0.0224\n",
            "Epoch 00013: saving model to ./snapshots/resnet50_csv_13.h5\n",
            "283/283 [==============================] - 100s 352ms/step - loss: 0.5286 - regression_loss: 0.5062 - classification_loss: 0.0224\n",
            "Epoch 14/50\n",
            "283/283 [==============================] - ETA: 0s - loss: 0.5115 - regression_loss: 0.4891 - classification_loss: 0.0223\n",
            "Epoch 00014: saving model to ./snapshots/resnet50_csv_14.h5\n",
            "283/283 [==============================] - 100s 353ms/step - loss: 0.5115 - regression_loss: 0.4891 - classification_loss: 0.0223\n",
            "Epoch 15/50\n",
            "283/283 [==============================] - ETA: 0s - loss: 0.5051 - regression_loss: 0.4840 - classification_loss: 0.0211\n",
            "Epoch 00015: saving model to ./snapshots/resnet50_csv_15.h5\n",
            "283/283 [==============================] - 100s 353ms/step - loss: 0.5051 - regression_loss: 0.4840 - classification_loss: 0.0211\n",
            "Epoch 16/50\n",
            "283/283 [==============================] - ETA: 0s - loss: 0.4964 - regression_loss: 0.4766 - classification_loss: 0.0198\n",
            "Epoch 00016: saving model to ./snapshots/resnet50_csv_16.h5\n",
            "283/283 [==============================] - 100s 352ms/step - loss: 0.4964 - regression_loss: 0.4766 - classification_loss: 0.0198\n",
            "Epoch 17/50\n",
            "283/283 [==============================] - ETA: 0s - loss: 0.4678 - regression_loss: 0.4506 - classification_loss: 0.0172\n",
            "Epoch 00017: saving model to ./snapshots/resnet50_csv_17.h5\n",
            "283/283 [==============================] - 100s 354ms/step - loss: 0.4678 - regression_loss: 0.4506 - classification_loss: 0.0172\n",
            "Epoch 18/50\n",
            "283/283 [==============================] - ETA: 0s - loss: 0.4585 - regression_loss: 0.4408 - classification_loss: 0.0177\n",
            "Epoch 00018: saving model to ./snapshots/resnet50_csv_18.h5\n",
            "283/283 [==============================] - 101s 355ms/step - loss: 0.4585 - regression_loss: 0.4408 - classification_loss: 0.0177\n",
            "Epoch 19/50\n",
            "283/283 [==============================] - ETA: 0s - loss: 0.4464 - regression_loss: 0.4312 - classification_loss: 0.0152\n",
            "Epoch 00019: saving model to ./snapshots/resnet50_csv_19.h5\n",
            "283/283 [==============================] - 100s 354ms/step - loss: 0.4464 - regression_loss: 0.4312 - classification_loss: 0.0152\n",
            "Epoch 20/50\n",
            "283/283 [==============================] - ETA: 0s - loss: 0.4271 - regression_loss: 0.4125 - classification_loss: 0.0146\n",
            "Epoch 00020: saving model to ./snapshots/resnet50_csv_20.h5\n",
            "283/283 [==============================] - 100s 354ms/step - loss: 0.4271 - regression_loss: 0.4125 - classification_loss: 0.0146\n",
            "Epoch 21/50\n",
            "283/283 [==============================] - ETA: 0s - loss: 0.4239 - regression_loss: 0.4111 - classification_loss: 0.0128\n",
            "Epoch 00021: saving model to ./snapshots/resnet50_csv_21.h5\n",
            "283/283 [==============================] - 100s 353ms/step - loss: 0.4239 - regression_loss: 0.4111 - classification_loss: 0.0128\n",
            "Epoch 22/50\n",
            "283/283 [==============================] - ETA: 0s - loss: 0.4391 - regression_loss: 0.4273 - classification_loss: 0.0117\n",
            "Epoch 00022: saving model to ./snapshots/resnet50_csv_22.h5\n",
            "283/283 [==============================] - 100s 355ms/step - loss: 0.4391 - regression_loss: 0.4273 - classification_loss: 0.0117\n",
            "Epoch 23/50\n",
            "283/283 [==============================] - ETA: 0s - loss: 0.4021 - regression_loss: 0.3921 - classification_loss: 0.0100\n",
            "Epoch 00023: saving model to ./snapshots/resnet50_csv_23.h5\n",
            "283/283 [==============================] - 100s 353ms/step - loss: 0.4021 - regression_loss: 0.3921 - classification_loss: 0.0100\n",
            "Epoch 24/50\n",
            "283/283 [==============================] - ETA: 0s - loss: 0.3867 - regression_loss: 0.3756 - classification_loss: 0.0111\n",
            "Epoch 00024: saving model to ./snapshots/resnet50_csv_24.h5\n",
            "283/283 [==============================] - 100s 355ms/step - loss: 0.3867 - regression_loss: 0.3756 - classification_loss: 0.0111\n",
            "Epoch 25/50\n",
            "283/283 [==============================] - ETA: 0s - loss: 0.3889 - regression_loss: 0.3795 - classification_loss: 0.0094\n",
            "Epoch 00025: saving model to ./snapshots/resnet50_csv_25.h5\n",
            "283/283 [==============================] - 100s 354ms/step - loss: 0.3889 - regression_loss: 0.3795 - classification_loss: 0.0094\n",
            "Epoch 26/50\n",
            "283/283 [==============================] - ETA: 0s - loss: 0.3696 - regression_loss: 0.3597 - classification_loss: 0.0099\n",
            "Epoch 00026: saving model to ./snapshots/resnet50_csv_26.h5\n",
            "283/283 [==============================] - 100s 354ms/step - loss: 0.3696 - regression_loss: 0.3597 - classification_loss: 0.0099\n",
            "Epoch 27/50\n",
            "283/283 [==============================] - ETA: 0s - loss: 0.3561 - regression_loss: 0.3470 - classification_loss: 0.0090\n",
            "Epoch 00027: saving model to ./snapshots/resnet50_csv_27.h5\n",
            "283/283 [==============================] - 100s 355ms/step - loss: 0.3561 - regression_loss: 0.3470 - classification_loss: 0.0090\n",
            "Epoch 28/50\n",
            " 37/283 [==>...........................] - ETA: 1:21 - loss: 0.3381 - regression_loss: 0.3320 - classification_loss: 0.0061"
          ],
          "name": "stdout"
        }
      ]
    },
    {
      "cell_type": "code",
      "metadata": {
        "colab": {
          "base_uri": "https://localhost:8080/"
        },
        "id": "ADvTOjFU298Z",
        "outputId": "33648ff0-5b3c-4be8-8bc1-7d94ceaf1851"
      },
      "source": [
        "!python keras_retinanet/bin/train.py  --batch-size 1 --epochs 50 --gpu=0 --steps 860 --snapshot-path /content/drive/MyDrive/snapshot/ --tensorboard-dir ./Tensorboard_files/  csv tub.csv Mapping_tub.csv "
      ],
      "execution_count": null,
      "outputs": [
        {
          "output_type": "stream",
          "text": [
            "2021-06-13 14:52:40.453622: I tensorflow/stream_executor/platform/default/dso_loader.cc:53] Successfully opened dynamic library libcudart.so.11.0\n",
            "2021-06-13 14:52:41.845032: I tensorflow/stream_executor/platform/default/dso_loader.cc:53] Successfully opened dynamic library libcuda.so.1\n",
            "2021-06-13 14:52:41.879318: I tensorflow/stream_executor/cuda/cuda_gpu_executor.cc:937] successful NUMA node read from SysFS had negative value (-1), but there must be at least one NUMA node, so returning NUMA node zero\n",
            "2021-06-13 14:52:41.879986: I tensorflow/core/common_runtime/gpu/gpu_device.cc:1733] Found device 0 with properties: \n",
            "pciBusID: 0000:00:04.0 name: Tesla T4 computeCapability: 7.5\n",
            "coreClock: 1.59GHz coreCount: 40 deviceMemorySize: 14.75GiB deviceMemoryBandwidth: 298.08GiB/s\n",
            "2021-06-13 14:52:41.880035: I tensorflow/stream_executor/platform/default/dso_loader.cc:53] Successfully opened dynamic library libcudart.so.11.0\n",
            "2021-06-13 14:52:41.883588: I tensorflow/stream_executor/platform/default/dso_loader.cc:53] Successfully opened dynamic library libcublas.so.11\n",
            "2021-06-13 14:52:41.883670: I tensorflow/stream_executor/platform/default/dso_loader.cc:53] Successfully opened dynamic library libcublasLt.so.11\n",
            "2021-06-13 14:52:41.885514: I tensorflow/stream_executor/platform/default/dso_loader.cc:53] Successfully opened dynamic library libcufft.so.10\n",
            "2021-06-13 14:52:41.885895: I tensorflow/stream_executor/platform/default/dso_loader.cc:53] Successfully opened dynamic library libcurand.so.10\n",
            "2021-06-13 14:52:41.887858: I tensorflow/stream_executor/platform/default/dso_loader.cc:53] Successfully opened dynamic library libcusolver.so.10\n",
            "2021-06-13 14:52:41.888468: I tensorflow/stream_executor/platform/default/dso_loader.cc:53] Successfully opened dynamic library libcusparse.so.11\n",
            "2021-06-13 14:52:41.888730: I tensorflow/stream_executor/platform/default/dso_loader.cc:53] Successfully opened dynamic library libcudnn.so.8\n",
            "2021-06-13 14:52:41.888834: I tensorflow/stream_executor/cuda/cuda_gpu_executor.cc:937] successful NUMA node read from SysFS had negative value (-1), but there must be at least one NUMA node, so returning NUMA node zero\n",
            "2021-06-13 14:52:41.889417: I tensorflow/stream_executor/cuda/cuda_gpu_executor.cc:937] successful NUMA node read from SysFS had negative value (-1), but there must be at least one NUMA node, so returning NUMA node zero\n",
            "2021-06-13 14:52:41.890032: I tensorflow/core/common_runtime/gpu/gpu_device.cc:1871] Adding visible gpu devices: 0\n",
            "2021-06-13 14:52:41.890685: I tensorflow/stream_executor/cuda/cuda_gpu_executor.cc:937] successful NUMA node read from SysFS had negative value (-1), but there must be at least one NUMA node, so returning NUMA node zero\n",
            "2021-06-13 14:52:41.891234: I tensorflow/core/common_runtime/gpu/gpu_device.cc:1733] Found device 0 with properties: \n",
            "pciBusID: 0000:00:04.0 name: Tesla T4 computeCapability: 7.5\n",
            "coreClock: 1.59GHz coreCount: 40 deviceMemorySize: 14.75GiB deviceMemoryBandwidth: 298.08GiB/s\n",
            "2021-06-13 14:52:41.891309: I tensorflow/stream_executor/cuda/cuda_gpu_executor.cc:937] successful NUMA node read from SysFS had negative value (-1), but there must be at least one NUMA node, so returning NUMA node zero\n",
            "2021-06-13 14:52:41.891983: I tensorflow/stream_executor/cuda/cuda_gpu_executor.cc:937] successful NUMA node read from SysFS had negative value (-1), but there must be at least one NUMA node, so returning NUMA node zero\n",
            "2021-06-13 14:52:41.892524: I tensorflow/core/common_runtime/gpu/gpu_device.cc:1871] Adding visible gpu devices: 0\n",
            "2021-06-13 14:52:41.892579: I tensorflow/stream_executor/platform/default/dso_loader.cc:53] Successfully opened dynamic library libcudart.so.11.0\n",
            "2021-06-13 14:52:42.538217: I tensorflow/core/common_runtime/gpu/gpu_device.cc:1258] Device interconnect StreamExecutor with strength 1 edge matrix:\n",
            "2021-06-13 14:52:42.538270: I tensorflow/core/common_runtime/gpu/gpu_device.cc:1264]      0 \n",
            "2021-06-13 14:52:42.538286: I tensorflow/core/common_runtime/gpu/gpu_device.cc:1277] 0:   N \n",
            "2021-06-13 14:52:42.538492: I tensorflow/stream_executor/cuda/cuda_gpu_executor.cc:937] successful NUMA node read from SysFS had negative value (-1), but there must be at least one NUMA node, so returning NUMA node zero\n",
            "2021-06-13 14:52:42.539126: I tensorflow/stream_executor/cuda/cuda_gpu_executor.cc:937] successful NUMA node read from SysFS had negative value (-1), but there must be at least one NUMA node, so returning NUMA node zero\n",
            "2021-06-13 14:52:42.539736: I tensorflow/stream_executor/cuda/cuda_gpu_executor.cc:937] successful NUMA node read from SysFS had negative value (-1), but there must be at least one NUMA node, so returning NUMA node zero\n",
            "2021-06-13 14:52:42.540321: I tensorflow/core/common_runtime/gpu/gpu_device.cc:1418] Created TensorFlow device (/job:localhost/replica:0/task:0/device:GPU:0 with 13837 MB memory) -> physical GPU (device: 0, name: Tesla T4, pci bus id: 0000:00:04.0, compute capability: 7.5)\n",
            "1 Physical GPUs, 1 Logical GPUs\n",
            "Traceback (most recent call last):\n",
            "  File \"keras_retinanet/bin/train.py\", line 553, in <module>\n",
            "    main()\n",
            "  File \"keras_retinanet/bin/train.py\", line 483, in main\n",
            "    train_generator, validation_generator = create_generators(args, backbone.preprocess_image)\n",
            "  File \"keras_retinanet/bin/train.py\", line 303, in create_generators\n",
            "    **common_args\n",
            "  File \"keras_retinanet/bin/../../keras_retinanet/preprocessing/csv_generator.py\", line 144, in __init__\n",
            "    with _open_for_csv(csv_class_file) as file:\n",
            "  File \"keras_retinanet/bin/../../keras_retinanet/preprocessing/csv_generator.py\", line 111, in _open_for_csv\n",
            "    return open(path, 'r', newline='')\n",
            "FileNotFoundError: [Errno 2] No such file or directory: 'Mapping_tub.csv'\n"
          ],
          "name": "stdout"
        }
      ]
    },
    {
      "cell_type": "code",
      "metadata": {
        "id": "DStzOCZUDhP_"
      },
      "source": [
        "!pip install . --user\n",
        "!python setup.py build_ext --inplace"
      ],
      "execution_count": null,
      "outputs": []
    },
    {
      "cell_type": "code",
      "metadata": {
        "id": "Bm1LVMnEDzvf"
      },
      "source": [
        "!python keras_retinanet/bin/convert_model.py /content/drive/MyDrive/snapshot/resnet50_csv_49.h5 /content/drive/MyDrive/inference/tub.h5 "
      ],
      "execution_count": null,
      "outputs": []
    },
    {
      "cell_type": "code",
      "metadata": {
        "id": "XTCJcpP1a1Hv"
      },
      "source": [
        "import tensorflow as tf\n",
        "import keras_retinanet\n",
        "model_path = '/content/drive/MyDrive/inference/tub.h5'\n",
        "model = tf.keras.models.load_model(,custom_objects=keras_retinanet.models.resnet.custom_objects)\n",
        "import tensorflow as tf\n",
        "from custom_layer import CustomLayer\n",
        "model = tf.keras.models.load_model('model.h5', custom_objects={'CustomLayer': CustomLayer})\n",
        "tf.saved_model.save(model,'model')"
      ],
      "execution_count": null,
      "outputs": []
    },
    {
      "cell_type": "code",
      "metadata": {
        "id": "7V4RuwLoXs-c"
      },
      "source": [
        "!zip -r save_model.zip save_model/"
      ],
      "execution_count": null,
      "outputs": []
    },
    {
      "cell_type": "code",
      "metadata": {
        "id": "m9cQlrKLnUhU"
      },
      "source": [
        "python3 keras_to_tensorflow.py -input_model_file model.h5 -output_model_file model.pb -graph_def True"
      ],
      "execution_count": null,
      "outputs": []
    },
    {
      "cell_type": "code",
      "metadata": {
        "id": "9kYMh5lRuSVw"
      },
      "source": [
        "%cd /content/keras-retinanet/examples/"
      ],
      "execution_count": null,
      "outputs": []
    },
    {
      "cell_type": "code",
      "metadata": {
        "id": "b4_Y1tyU-taI"
      },
      "source": [
        "!python test_dir_door.py"
      ],
      "execution_count": null,
      "outputs": []
    },
    {
      "cell_type": "code",
      "metadata": {
        "id": "0sIyIzMe-0fA"
      },
      "source": [
        "!mkdir save_model"
      ],
      "execution_count": null,
      "outputs": []
    },
    {
      "cell_type": "code",
      "metadata": {
        "colab": {
          "base_uri": "https://localhost:8080/"
        },
        "id": "EloDegM_xC55",
        "outputId": "40f26a99-9ff9-47eb-9540-344a04f1f20a"
      },
      "source": [
        "%cd /content/keras-retinanet/examples/"
      ],
      "execution_count": null,
      "outputs": [
        {
          "output_type": "stream",
          "text": [
            "/content/keras-retinanet/examples\n"
          ],
          "name": "stdout"
        }
      ]
    },
    {
      "cell_type": "code",
      "metadata": {
        "id": "j8qGuUYLxMEc",
        "colab": {
          "base_uri": "https://localhost:8080/"
        },
        "outputId": "466a4397-caed-409c-eda9-0409da6061ec"
      },
      "source": [
        "!python test_dir_door.py"
      ],
      "execution_count": null,
      "outputs": [
        {
          "output_type": "stream",
          "text": [
            "2021-04-18 13:53:10.033415: I tensorflow/stream_executor/platform/default/dso_loader.cc:49] Successfully opened dynamic library libcudart.so.11.0\n",
            "2021-04-18 13:53:12.461861: I tensorflow/compiler/jit/xla_cpu_device.cc:41] Not creating XLA devices, tf_xla_enable_xla_devices not set\n",
            "2021-04-18 13:53:12.463343: I tensorflow/stream_executor/platform/default/dso_loader.cc:49] Successfully opened dynamic library libcuda.so.1\n",
            "2021-04-18 13:53:12.474199: E tensorflow/stream_executor/cuda/cuda_driver.cc:328] failed call to cuInit: CUDA_ERROR_NO_DEVICE: no CUDA-capable device is detected\n",
            "2021-04-18 13:53:12.474265: I tensorflow/stream_executor/cuda/cuda_diagnostics.cc:156] kernel driver does not appear to be running on this host (d9957ffc2bdd): /proc/driver/nvidia/version does not exist\n",
            "2021-04-18 13:53:12.474841: I tensorflow/compiler/jit/xla_gpu_device.cc:99] Not creating XLA devices, tf_xla_enable_xla_devices not set\n",
            "WARNING:tensorflow:No training configuration found in the save file, so the model was *not* compiled. Compile it manually.\n",
            "WARNING:tensorflow:From test_dir_door.py:46: The name tf.keras.backend.get_session is deprecated. Please use tf.compat.v1.keras.backend.get_session instead.\n",
            "\n",
            "2021-04-18 13:53:17.032263: I tensorflow/compiler/jit/xla_gpu_device.cc:99] Not creating XLA devices, tf_xla_enable_xla_devices not set\n",
            "WARNING:tensorflow:From test_dir_door.py:31: convert_variables_to_constants (from tensorflow.python.framework.graph_util_impl) is deprecated and will be removed in a future version.\n",
            "Instructions for updating:\n",
            "Use `tf.compat.v1.graph_util.convert_variables_to_constants`\n",
            "WARNING:tensorflow:From /usr/local/lib/python3.7/dist-packages/tensorflow/python/framework/convert_to_constants.py:856: extract_sub_graph (from tensorflow.python.framework.graph_util_impl) is deprecated and will be removed in a future version.\n",
            "Instructions for updating:\n",
            "Use `tf.compat.v1.graph_util.extract_sub_graph`\n",
            "Traceback (most recent call last):\n",
            "  File \"test_dir_door.py\", line 46, in <module>\n",
            "    frozen_graph = freeze_session(tf.compat.v1.keras.backend.get_session(), output_names=[out.name for out in model.outputs[1:]])\n",
            "  File \"test_dir_door.py\", line 31, in freeze_session\n",
            "    session, input_graph_def, output_names, freeze_var_names)\n",
            "  File \"/usr/local/lib/python3.7/dist-packages/tensorflow/python/util/deprecation.py\", line 340, in new_func\n",
            "    return func(*args, **kwargs)\n",
            "  File \"/usr/local/lib/python3.7/dist-packages/tensorflow/python/framework/graph_util_impl.py\", line 280, in convert_variables_to_constants\n",
            "    variable_names_denylist=variable_names_blacklist)\n",
            "  File \"/usr/local/lib/python3.7/dist-packages/tensorflow/python/framework/convert_to_constants.py\", line 1148, in convert_variables_to_constants_from_session_graph\n",
            "    variable_names_denylist=variable_names_denylist))\n",
            "  File \"/usr/local/lib/python3.7/dist-packages/tensorflow/python/framework/convert_to_constants.py\", line 856, in __init__\n",
            "    graph_def = graph_util.extract_sub_graph(graph_def, output_node_names)\n",
            "  File \"/usr/local/lib/python3.7/dist-packages/tensorflow/python/util/deprecation.py\", line 340, in new_func\n",
            "    return func(*args, **kwargs)\n",
            "  File \"/usr/local/lib/python3.7/dist-packages/tensorflow/python/framework/graph_util_impl.py\", line 208, in extract_sub_graph\n",
            "    _assert_nodes_are_present(name_to_node, dest_nodes)\n",
            "  File \"/usr/local/lib/python3.7/dist-packages/tensorflow/python/framework/graph_util_impl.py\", line 163, in _assert_nodes_are_present\n",
            "    assert d in name_to_node, \"%s is not in graph\" % d\n",
            "AssertionError: filtered_detections/map/TensorArrayV2Stack_1/TensorListStack:0 is not in graph\n"
          ],
          "name": "stdout"
        }
      ]
    },
    {
      "cell_type": "code",
      "metadata": {
        "colab": {
          "base_uri": "https://localhost:8080/",
          "height": 1000
        },
        "id": "eGi20Gr35V3J",
        "outputId": "41335d65-c685-461d-92be-ce9f4eded9d8"
      },
      "source": [
        "####################################################################################33\n",
        "import tensorflow as tf\n",
        "import keras\n",
        "from keras_retinanet import models\n",
        "import os \n",
        "os.environ[\"CUDA_DEVICE_ORDER\"]=\"PCI_BUS_ID\"   # see issue #152\n",
        "os.environ[\"CUDA_VISIBLE_DEVICES\"]=\"0\"\n",
        "model_path = \"/content/drive/MyDrive/inference/tub.h5\"\n",
        "\n",
        "model = tf.keras.models.load_model(model_path, custom_objects=models.backbone('resnet50').custom_objects)\n",
        "\n",
        "#tf.saved_model.save(model,'model')"
      ],
      "execution_count": null,
      "outputs": [
        {
          "output_type": "error",
          "ename": "FailedPreconditionError",
          "evalue": "ignored",
          "traceback": [
            "\u001b[0;31m---------------------------------------------------------------------------\u001b[0m",
            "\u001b[0;31mFailedPreconditionError\u001b[0m                   Traceback (most recent call last)",
            "\u001b[0;32m/usr/local/lib/python3.7/dist-packages/tensorflow/python/client/session.py\u001b[0m in \u001b[0;36m_do_call\u001b[0;34m(self, fn, *args)\u001b[0m\n\u001b[1;32m   1374\u001b[0m     \u001b[0;32mtry\u001b[0m\u001b[0;34m:\u001b[0m\u001b[0;34m\u001b[0m\u001b[0;34m\u001b[0m\u001b[0m\n\u001b[0;32m-> 1375\u001b[0;31m       \u001b[0;32mreturn\u001b[0m \u001b[0mfn\u001b[0m\u001b[0;34m(\u001b[0m\u001b[0;34m*\u001b[0m\u001b[0margs\u001b[0m\u001b[0;34m)\u001b[0m\u001b[0;34m\u001b[0m\u001b[0;34m\u001b[0m\u001b[0m\n\u001b[0m\u001b[1;32m   1376\u001b[0m     \u001b[0;32mexcept\u001b[0m \u001b[0merrors\u001b[0m\u001b[0;34m.\u001b[0m\u001b[0mOpError\u001b[0m \u001b[0;32mas\u001b[0m \u001b[0me\u001b[0m\u001b[0;34m:\u001b[0m\u001b[0;34m\u001b[0m\u001b[0;34m\u001b[0m\u001b[0m\n",
            "\u001b[0;32m/usr/local/lib/python3.7/dist-packages/tensorflow/python/client/session.py\u001b[0m in \u001b[0;36m_run_fn\u001b[0;34m(feed_dict, fetch_list, target_list, options, run_metadata)\u001b[0m\n\u001b[1;32m   1359\u001b[0m       return self._call_tf_sessionrun(options, feed_dict, fetch_list,\n\u001b[0;32m-> 1360\u001b[0;31m                                       target_list, run_metadata)\n\u001b[0m\u001b[1;32m   1361\u001b[0m \u001b[0;34m\u001b[0m\u001b[0m\n",
            "\u001b[0;32m/usr/local/lib/python3.7/dist-packages/tensorflow/python/client/session.py\u001b[0m in \u001b[0;36m_call_tf_sessionrun\u001b[0;34m(self, options, feed_dict, fetch_list, target_list, run_metadata)\u001b[0m\n\u001b[1;32m   1452\u001b[0m                                             \u001b[0mfetch_list\u001b[0m\u001b[0;34m,\u001b[0m \u001b[0mtarget_list\u001b[0m\u001b[0;34m,\u001b[0m\u001b[0;34m\u001b[0m\u001b[0;34m\u001b[0m\u001b[0m\n\u001b[0;32m-> 1453\u001b[0;31m                                             run_metadata)\n\u001b[0m\u001b[1;32m   1454\u001b[0m \u001b[0;34m\u001b[0m\u001b[0m\n",
            "\u001b[0;31mFailedPreconditionError\u001b[0m: Error while reading resource variable pyramid_classification_15/bias/Initializer/Variable from Container: localhost. This could mean that the variable was uninitialized. Not found: Resource localhost/pyramid_classification_15/bias/Initializer/Variable/N10tensorflow3VarE does not exist.\n\t [[{{node pyramid_classification_15/bias/Initializer/ReadVariableOp}}]]",
            "\nDuring handling of the above exception, another exception occurred:\n",
            "\u001b[0;31mFailedPreconditionError\u001b[0m                   Traceback (most recent call last)",
            "\u001b[0;32m<ipython-input-85-6d985da00d44>\u001b[0m in \u001b[0;36m<module>\u001b[0;34m()\u001b[0m\n\u001b[1;32m      8\u001b[0m \u001b[0mmodel_path\u001b[0m \u001b[0;34m=\u001b[0m \u001b[0;34m\"/content/drive/MyDrive/inference/tub.h5\"\u001b[0m\u001b[0;34m\u001b[0m\u001b[0;34m\u001b[0m\u001b[0m\n\u001b[1;32m      9\u001b[0m \u001b[0;34m\u001b[0m\u001b[0m\n\u001b[0;32m---> 10\u001b[0;31m \u001b[0mmodel\u001b[0m \u001b[0;34m=\u001b[0m \u001b[0mtf\u001b[0m\u001b[0;34m.\u001b[0m\u001b[0mkeras\u001b[0m\u001b[0;34m.\u001b[0m\u001b[0mmodels\u001b[0m\u001b[0;34m.\u001b[0m\u001b[0mload_model\u001b[0m\u001b[0;34m(\u001b[0m\u001b[0mmodel_path\u001b[0m\u001b[0;34m,\u001b[0m \u001b[0mcustom_objects\u001b[0m\u001b[0;34m=\u001b[0m\u001b[0mmodels\u001b[0m\u001b[0;34m.\u001b[0m\u001b[0mbackbone\u001b[0m\u001b[0;34m(\u001b[0m\u001b[0;34m'resnet50'\u001b[0m\u001b[0;34m)\u001b[0m\u001b[0;34m.\u001b[0m\u001b[0mcustom_objects\u001b[0m\u001b[0;34m)\u001b[0m\u001b[0;34m\u001b[0m\u001b[0;34m\u001b[0m\u001b[0m\n\u001b[0m\u001b[1;32m     11\u001b[0m \u001b[0;34m\u001b[0m\u001b[0m\n\u001b[1;32m     12\u001b[0m \u001b[0;31m#tf.saved_model.save(model,'model')\u001b[0m\u001b[0;34m\u001b[0m\u001b[0;34m\u001b[0m\u001b[0;34m\u001b[0m\u001b[0m\n",
            "\u001b[0;32m/usr/local/lib/python3.7/dist-packages/tensorflow/python/keras/saving/save.py\u001b[0m in \u001b[0;36mload_model\u001b[0;34m(filepath, custom_objects, compile, options)\u001b[0m\n\u001b[1;32m    205\u001b[0m           (isinstance(filepath, h5py.File) or h5py.is_hdf5(filepath))):\n\u001b[1;32m    206\u001b[0m         return hdf5_format.load_model_from_hdf5(filepath, custom_objects,\n\u001b[0;32m--> 207\u001b[0;31m                                                 compile)\n\u001b[0m\u001b[1;32m    208\u001b[0m \u001b[0;34m\u001b[0m\u001b[0m\n\u001b[1;32m    209\u001b[0m       \u001b[0mfilepath\u001b[0m \u001b[0;34m=\u001b[0m \u001b[0mpath_to_string\u001b[0m\u001b[0;34m(\u001b[0m\u001b[0mfilepath\u001b[0m\u001b[0;34m)\u001b[0m\u001b[0;34m\u001b[0m\u001b[0;34m\u001b[0m\u001b[0m\n",
            "\u001b[0;32m/usr/local/lib/python3.7/dist-packages/tensorflow/python/keras/saving/hdf5_format.py\u001b[0m in \u001b[0;36mload_model_from_hdf5\u001b[0;34m(filepath, custom_objects, compile)\u001b[0m\n\u001b[1;32m    185\u001b[0m \u001b[0;34m\u001b[0m\u001b[0m\n\u001b[1;32m    186\u001b[0m     \u001b[0;31m# set weights\u001b[0m\u001b[0;34m\u001b[0m\u001b[0;34m\u001b[0m\u001b[0;34m\u001b[0m\u001b[0m\n\u001b[0;32m--> 187\u001b[0;31m     \u001b[0mload_weights_from_hdf5_group\u001b[0m\u001b[0;34m(\u001b[0m\u001b[0mf\u001b[0m\u001b[0;34m[\u001b[0m\u001b[0;34m'model_weights'\u001b[0m\u001b[0;34m]\u001b[0m\u001b[0;34m,\u001b[0m \u001b[0mmodel\u001b[0m\u001b[0;34m.\u001b[0m\u001b[0mlayers\u001b[0m\u001b[0;34m)\u001b[0m\u001b[0;34m\u001b[0m\u001b[0;34m\u001b[0m\u001b[0m\n\u001b[0m\u001b[1;32m    188\u001b[0m \u001b[0;34m\u001b[0m\u001b[0m\n\u001b[1;32m    189\u001b[0m     \u001b[0;32mif\u001b[0m \u001b[0mcompile\u001b[0m\u001b[0;34m:\u001b[0m\u001b[0;34m\u001b[0m\u001b[0;34m\u001b[0m\u001b[0m\n",
            "\u001b[0;32m/usr/local/lib/python3.7/dist-packages/tensorflow/python/keras/saving/hdf5_format.py\u001b[0m in \u001b[0;36mload_weights_from_hdf5_group\u001b[0;34m(f, layers)\u001b[0m\n\u001b[1;32m    708\u001b[0m                        str(len(weight_values)) + ' elements.')\n\u001b[1;32m    709\u001b[0m     \u001b[0mweight_value_tuples\u001b[0m \u001b[0;34m+=\u001b[0m \u001b[0mzip\u001b[0m\u001b[0;34m(\u001b[0m\u001b[0msymbolic_weights\u001b[0m\u001b[0;34m,\u001b[0m \u001b[0mweight_values\u001b[0m\u001b[0;34m)\u001b[0m\u001b[0;34m\u001b[0m\u001b[0;34m\u001b[0m\u001b[0m\n\u001b[0;32m--> 710\u001b[0;31m   \u001b[0mK\u001b[0m\u001b[0;34m.\u001b[0m\u001b[0mbatch_set_value\u001b[0m\u001b[0;34m(\u001b[0m\u001b[0mweight_value_tuples\u001b[0m\u001b[0;34m)\u001b[0m\u001b[0;34m\u001b[0m\u001b[0;34m\u001b[0m\u001b[0m\n\u001b[0m\u001b[1;32m    711\u001b[0m \u001b[0;34m\u001b[0m\u001b[0m\n\u001b[1;32m    712\u001b[0m \u001b[0;34m\u001b[0m\u001b[0m\n",
            "\u001b[0;32m/usr/local/lib/python3.7/dist-packages/tensorflow/python/util/dispatch.py\u001b[0m in \u001b[0;36mwrapper\u001b[0;34m(*args, **kwargs)\u001b[0m\n\u001b[1;32m    199\u001b[0m     \u001b[0;34m\"\"\"Call target, and fall back on dispatchers if there is a TypeError.\"\"\"\u001b[0m\u001b[0;34m\u001b[0m\u001b[0;34m\u001b[0m\u001b[0m\n\u001b[1;32m    200\u001b[0m     \u001b[0;32mtry\u001b[0m\u001b[0;34m:\u001b[0m\u001b[0;34m\u001b[0m\u001b[0;34m\u001b[0m\u001b[0m\n\u001b[0;32m--> 201\u001b[0;31m       \u001b[0;32mreturn\u001b[0m \u001b[0mtarget\u001b[0m\u001b[0;34m(\u001b[0m\u001b[0;34m*\u001b[0m\u001b[0margs\u001b[0m\u001b[0;34m,\u001b[0m \u001b[0;34m**\u001b[0m\u001b[0mkwargs\u001b[0m\u001b[0;34m)\u001b[0m\u001b[0;34m\u001b[0m\u001b[0;34m\u001b[0m\u001b[0m\n\u001b[0m\u001b[1;32m    202\u001b[0m     \u001b[0;32mexcept\u001b[0m \u001b[0;34m(\u001b[0m\u001b[0mTypeError\u001b[0m\u001b[0;34m,\u001b[0m \u001b[0mValueError\u001b[0m\u001b[0;34m)\u001b[0m\u001b[0;34m:\u001b[0m\u001b[0;34m\u001b[0m\u001b[0;34m\u001b[0m\u001b[0m\n\u001b[1;32m    203\u001b[0m       \u001b[0;31m# Note: convert_to_eager_tensor currently raises a ValueError, not a\u001b[0m\u001b[0;34m\u001b[0m\u001b[0;34m\u001b[0m\u001b[0;34m\u001b[0m\u001b[0m\n",
            "\u001b[0;32m/usr/local/lib/python3.7/dist-packages/tensorflow/python/keras/backend.py\u001b[0m in \u001b[0;36mbatch_set_value\u001b[0;34m(tuples)\u001b[0m\n\u001b[1;32m   3729\u001b[0m           \u001b[0massign_ops\u001b[0m\u001b[0;34m.\u001b[0m\u001b[0mappend\u001b[0m\u001b[0;34m(\u001b[0m\u001b[0massign_op\u001b[0m\u001b[0;34m)\u001b[0m\u001b[0;34m\u001b[0m\u001b[0;34m\u001b[0m\u001b[0m\n\u001b[1;32m   3730\u001b[0m           \u001b[0mfeed_dict\u001b[0m\u001b[0;34m[\u001b[0m\u001b[0massign_placeholder\u001b[0m\u001b[0;34m]\u001b[0m \u001b[0;34m=\u001b[0m \u001b[0mvalue\u001b[0m\u001b[0;34m\u001b[0m\u001b[0;34m\u001b[0m\u001b[0m\n\u001b[0;32m-> 3731\u001b[0;31m         \u001b[0mget_session\u001b[0m\u001b[0;34m(\u001b[0m\u001b[0;34m)\u001b[0m\u001b[0;34m.\u001b[0m\u001b[0mrun\u001b[0m\u001b[0;34m(\u001b[0m\u001b[0massign_ops\u001b[0m\u001b[0;34m,\u001b[0m \u001b[0mfeed_dict\u001b[0m\u001b[0;34m=\u001b[0m\u001b[0mfeed_dict\u001b[0m\u001b[0;34m)\u001b[0m\u001b[0;34m\u001b[0m\u001b[0;34m\u001b[0m\u001b[0m\n\u001b[0m\u001b[1;32m   3732\u001b[0m \u001b[0;34m\u001b[0m\u001b[0m\n\u001b[1;32m   3733\u001b[0m \u001b[0;34m\u001b[0m\u001b[0m\n",
            "\u001b[0;32m/usr/local/lib/python3.7/dist-packages/tensorflow/python/keras/backend.py\u001b[0m in \u001b[0;36mget_session\u001b[0;34m(op_input_list)\u001b[0m\n\u001b[1;32m    642\u001b[0m   \u001b[0;32mif\u001b[0m \u001b[0;32mnot\u001b[0m \u001b[0m_MANUAL_VAR_INIT\u001b[0m\u001b[0;34m:\u001b[0m\u001b[0;34m\u001b[0m\u001b[0;34m\u001b[0m\u001b[0m\n\u001b[1;32m    643\u001b[0m     \u001b[0;32mwith\u001b[0m \u001b[0msession\u001b[0m\u001b[0;34m.\u001b[0m\u001b[0mgraph\u001b[0m\u001b[0;34m.\u001b[0m\u001b[0mas_default\u001b[0m\u001b[0;34m(\u001b[0m\u001b[0;34m)\u001b[0m\u001b[0;34m:\u001b[0m\u001b[0;34m\u001b[0m\u001b[0;34m\u001b[0m\u001b[0m\n\u001b[0;32m--> 644\u001b[0;31m       \u001b[0m_initialize_variables\u001b[0m\u001b[0;34m(\u001b[0m\u001b[0msession\u001b[0m\u001b[0;34m)\u001b[0m\u001b[0;34m\u001b[0m\u001b[0;34m\u001b[0m\u001b[0m\n\u001b[0m\u001b[1;32m    645\u001b[0m   \u001b[0;32mreturn\u001b[0m \u001b[0msession\u001b[0m\u001b[0;34m\u001b[0m\u001b[0;34m\u001b[0m\u001b[0m\n\u001b[1;32m    646\u001b[0m \u001b[0;34m\u001b[0m\u001b[0m\n",
            "\u001b[0;32m/usr/local/lib/python3.7/dist-packages/tensorflow/python/keras/backend.py\u001b[0m in \u001b[0;36m_initialize_variables\u001b[0;34m(session)\u001b[0m\n\u001b[1;32m   1099\u001b[0m       \u001b[0mv\u001b[0m\u001b[0;34m.\u001b[0m\u001b[0m_keras_initialized\u001b[0m \u001b[0;34m=\u001b[0m \u001b[0;32mTrue\u001b[0m\u001b[0;34m\u001b[0m\u001b[0;34m\u001b[0m\u001b[0m\n\u001b[1;32m   1100\u001b[0m     \u001b[0;32mif\u001b[0m \u001b[0muninitialized_vars\u001b[0m\u001b[0;34m:\u001b[0m\u001b[0;34m\u001b[0m\u001b[0;34m\u001b[0m\u001b[0m\n\u001b[0;32m-> 1101\u001b[0;31m       \u001b[0msession\u001b[0m\u001b[0;34m.\u001b[0m\u001b[0mrun\u001b[0m\u001b[0;34m(\u001b[0m\u001b[0mvariables_module\u001b[0m\u001b[0;34m.\u001b[0m\u001b[0mvariables_initializer\u001b[0m\u001b[0;34m(\u001b[0m\u001b[0muninitialized_vars\u001b[0m\u001b[0;34m)\u001b[0m\u001b[0;34m)\u001b[0m\u001b[0;34m\u001b[0m\u001b[0;34m\u001b[0m\u001b[0m\n\u001b[0m\u001b[1;32m   1102\u001b[0m \u001b[0;34m\u001b[0m\u001b[0m\n\u001b[1;32m   1103\u001b[0m \u001b[0;34m\u001b[0m\u001b[0m\n",
            "\u001b[0;32m/usr/local/lib/python3.7/dist-packages/tensorflow/python/client/session.py\u001b[0m in \u001b[0;36mrun\u001b[0;34m(self, fetches, feed_dict, options, run_metadata)\u001b[0m\n\u001b[1;32m    966\u001b[0m     \u001b[0;32mtry\u001b[0m\u001b[0;34m:\u001b[0m\u001b[0;34m\u001b[0m\u001b[0;34m\u001b[0m\u001b[0m\n\u001b[1;32m    967\u001b[0m       result = self._run(None, fetches, feed_dict, options_ptr,\n\u001b[0;32m--> 968\u001b[0;31m                          run_metadata_ptr)\n\u001b[0m\u001b[1;32m    969\u001b[0m       \u001b[0;32mif\u001b[0m \u001b[0mrun_metadata\u001b[0m\u001b[0;34m:\u001b[0m\u001b[0;34m\u001b[0m\u001b[0;34m\u001b[0m\u001b[0m\n\u001b[1;32m    970\u001b[0m         \u001b[0mproto_data\u001b[0m \u001b[0;34m=\u001b[0m \u001b[0mtf_session\u001b[0m\u001b[0;34m.\u001b[0m\u001b[0mTF_GetBuffer\u001b[0m\u001b[0;34m(\u001b[0m\u001b[0mrun_metadata_ptr\u001b[0m\u001b[0;34m)\u001b[0m\u001b[0;34m\u001b[0m\u001b[0;34m\u001b[0m\u001b[0m\n",
            "\u001b[0;32m/usr/local/lib/python3.7/dist-packages/tensorflow/python/client/session.py\u001b[0m in \u001b[0;36m_run\u001b[0;34m(self, handle, fetches, feed_dict, options, run_metadata)\u001b[0m\n\u001b[1;32m   1189\u001b[0m     \u001b[0;32mif\u001b[0m \u001b[0mfinal_fetches\u001b[0m \u001b[0;32mor\u001b[0m \u001b[0mfinal_targets\u001b[0m \u001b[0;32mor\u001b[0m \u001b[0;34m(\u001b[0m\u001b[0mhandle\u001b[0m \u001b[0;32mand\u001b[0m \u001b[0mfeed_dict_tensor\u001b[0m\u001b[0;34m)\u001b[0m\u001b[0;34m:\u001b[0m\u001b[0;34m\u001b[0m\u001b[0;34m\u001b[0m\u001b[0m\n\u001b[1;32m   1190\u001b[0m       results = self._do_run(handle, final_targets, final_fetches,\n\u001b[0;32m-> 1191\u001b[0;31m                              feed_dict_tensor, options, run_metadata)\n\u001b[0m\u001b[1;32m   1192\u001b[0m     \u001b[0;32melse\u001b[0m\u001b[0;34m:\u001b[0m\u001b[0;34m\u001b[0m\u001b[0;34m\u001b[0m\u001b[0m\n\u001b[1;32m   1193\u001b[0m       \u001b[0mresults\u001b[0m \u001b[0;34m=\u001b[0m \u001b[0;34m[\u001b[0m\u001b[0;34m]\u001b[0m\u001b[0;34m\u001b[0m\u001b[0;34m\u001b[0m\u001b[0m\n",
            "\u001b[0;32m/usr/local/lib/python3.7/dist-packages/tensorflow/python/client/session.py\u001b[0m in \u001b[0;36m_do_run\u001b[0;34m(self, handle, target_list, fetch_list, feed_dict, options, run_metadata)\u001b[0m\n\u001b[1;32m   1367\u001b[0m     \u001b[0;32mif\u001b[0m \u001b[0mhandle\u001b[0m \u001b[0;32mis\u001b[0m \u001b[0;32mNone\u001b[0m\u001b[0;34m:\u001b[0m\u001b[0;34m\u001b[0m\u001b[0;34m\u001b[0m\u001b[0m\n\u001b[1;32m   1368\u001b[0m       return self._do_call(_run_fn, feeds, fetches, targets, options,\n\u001b[0;32m-> 1369\u001b[0;31m                            run_metadata)\n\u001b[0m\u001b[1;32m   1370\u001b[0m     \u001b[0;32melse\u001b[0m\u001b[0;34m:\u001b[0m\u001b[0;34m\u001b[0m\u001b[0;34m\u001b[0m\u001b[0m\n\u001b[1;32m   1371\u001b[0m       \u001b[0;32mreturn\u001b[0m \u001b[0mself\u001b[0m\u001b[0;34m.\u001b[0m\u001b[0m_do_call\u001b[0m\u001b[0;34m(\u001b[0m\u001b[0m_prun_fn\u001b[0m\u001b[0;34m,\u001b[0m \u001b[0mhandle\u001b[0m\u001b[0;34m,\u001b[0m \u001b[0mfeeds\u001b[0m\u001b[0;34m,\u001b[0m \u001b[0mfetches\u001b[0m\u001b[0;34m)\u001b[0m\u001b[0;34m\u001b[0m\u001b[0;34m\u001b[0m\u001b[0m\n",
            "\u001b[0;32m/usr/local/lib/python3.7/dist-packages/tensorflow/python/client/session.py\u001b[0m in \u001b[0;36m_do_call\u001b[0;34m(self, fn, *args)\u001b[0m\n\u001b[1;32m   1392\u001b[0m                     \u001b[0;34m'\\nsession_config.graph_options.rewrite_options.'\u001b[0m\u001b[0;34m\u001b[0m\u001b[0;34m\u001b[0m\u001b[0m\n\u001b[1;32m   1393\u001b[0m                     'disable_meta_optimizer = True')\n\u001b[0;32m-> 1394\u001b[0;31m       \u001b[0;32mraise\u001b[0m \u001b[0mtype\u001b[0m\u001b[0;34m(\u001b[0m\u001b[0me\u001b[0m\u001b[0;34m)\u001b[0m\u001b[0;34m(\u001b[0m\u001b[0mnode_def\u001b[0m\u001b[0;34m,\u001b[0m \u001b[0mop\u001b[0m\u001b[0;34m,\u001b[0m \u001b[0mmessage\u001b[0m\u001b[0;34m)\u001b[0m\u001b[0;34m\u001b[0m\u001b[0;34m\u001b[0m\u001b[0m\n\u001b[0m\u001b[1;32m   1395\u001b[0m \u001b[0;34m\u001b[0m\u001b[0m\n\u001b[1;32m   1396\u001b[0m   \u001b[0;32mdef\u001b[0m \u001b[0m_extend_graph\u001b[0m\u001b[0;34m(\u001b[0m\u001b[0mself\u001b[0m\u001b[0;34m)\u001b[0m\u001b[0;34m:\u001b[0m\u001b[0;34m\u001b[0m\u001b[0;34m\u001b[0m\u001b[0m\n",
            "\u001b[0;31mFailedPreconditionError\u001b[0m: Error while reading resource variable pyramid_classification_15/bias/Initializer/Variable from Container: localhost. This could mean that the variable was uninitialized. Not found: Resource localhost/pyramid_classification_15/bias/Initializer/Variable/N10tensorflow3VarE does not exist.\n\t [[node pyramid_classification_15/bias/Initializer/ReadVariableOp (defined at /content/keras-retinanet/keras_retinanet/initializers.py:36) ]]\n\nOriginal stack trace for 'pyramid_classification_15/bias/Initializer/ReadVariableOp':\n  File \"/usr/lib/python3.7/runpy.py\", line 193, in _run_module_as_main\n    \"__main__\", mod_spec)\n  File \"/usr/lib/python3.7/runpy.py\", line 85, in _run_code\n    exec(code, run_globals)\n  File \"/usr/local/lib/python3.7/dist-packages/ipykernel_launcher.py\", line 16, in <module>\n    app.launch_new_instance()\n  File \"/usr/local/lib/python3.7/dist-packages/traitlets/config/application.py\", line 845, in launch_instance\n    app.start()\n  File \"/usr/local/lib/python3.7/dist-packages/ipykernel/kernelapp.py\", line 499, in start\n    self.io_loop.start()\n  File \"/usr/local/lib/python3.7/dist-packages/tornado/platform/asyncio.py\", line 132, in start\n    self.asyncio_loop.run_forever()\n  File \"/usr/lib/python3.7/asyncio/base_events.py\", line 541, in run_forever\n    self._run_once()\n  File \"/usr/lib/python3.7/asyncio/base_events.py\", line 1786, in _run_once\n    handle._run()\n  File \"/usr/lib/python3.7/asyncio/events.py\", line 88, in _run\n    self._context.run(self._callback, *self._args)\n  File \"/usr/local/lib/python3.7/dist-packages/tornado/platform/asyncio.py\", line 122, in _handle_events\n    handler_func(fileobj, events)\n  File \"/usr/local/lib/python3.7/dist-packages/tornado/stack_context.py\", line 300, in null_wrapper\n    return fn(*args, **kwargs)\n  File \"/usr/local/lib/python3.7/dist-packages/zmq/eventloop/zmqstream.py\", line 451, in _handle_events\n    self._handle_recv()\n  File \"/usr/local/lib/python3.7/dist-packages/zmq/eventloop/zmqstream.py\", line 480, in _handle_recv\n    self._run_callback(callback, msg)\n  File \"/usr/local/lib/python3.7/dist-packages/zmq/eventloop/zmqstream.py\", line 434, in _run_callback\n    callback(*args, **kwargs)\n  File \"/usr/local/lib/python3.7/dist-packages/tornado/stack_context.py\", line 300, in null_wrapper\n    return fn(*args, **kwargs)\n  File \"/usr/local/lib/python3.7/dist-packages/ipykernel/kernelbase.py\", line 283, in dispatcher\n    return self.dispatch_shell(stream, msg)\n  File \"/usr/local/lib/python3.7/dist-packages/ipykernel/kernelbase.py\", line 233, in dispatch_shell\n    handler(stream, idents, msg)\n  File \"/usr/local/lib/python3.7/dist-packages/ipykernel/kernelbase.py\", line 399, in execute_request\n    user_expressions, allow_stdin)\n  File \"/usr/local/lib/python3.7/dist-packages/ipykernel/ipkernel.py\", line 208, in do_execute\n    res = shell.run_cell(code, store_history=store_history, silent=silent)\n  File \"/usr/local/lib/python3.7/dist-packages/ipykernel/zmqshell.py\", line 537, in run_cell\n    return super(ZMQInteractiveShell, self).run_cell(*args, **kwargs)\n  File \"/usr/local/lib/python3.7/dist-packages/IPython/core/interactiveshell.py\", line 2718, in run_cell\n    interactivity=interactivity, compiler=compiler, result=result)\n  File \"/usr/local/lib/python3.7/dist-packages/IPython/core/interactiveshell.py\", line 2822, in run_ast_nodes\n    if self.run_code(code, result):\n  File \"/usr/local/lib/python3.7/dist-packages/IPython/core/interactiveshell.py\", line 2882, in run_code\n    exec(code_obj, self.user_global_ns, self.user_ns)\n  File \"<ipython-input-85-6d985da00d44>\", line 10, in <module>\n    model = tf.keras.models.load_model(model_path, custom_objects=models.backbone('resnet50').custom_objects)\n  File \"/usr/local/lib/python3.7/dist-packages/tensorflow/python/keras/saving/save.py\", line 207, in load_model\n    compile)\n  File \"/usr/local/lib/python3.7/dist-packages/tensorflow/python/keras/saving/hdf5_format.py\", line 184, in load_model_from_hdf5\n    custom_objects=custom_objects)\n  File \"/usr/local/lib/python3.7/dist-packages/tensorflow/python/keras/saving/model_config.py\", line 64, in model_from_config\n    return deserialize(config, custom_objects=custom_objects)\n  File \"/usr/local/lib/python3.7/dist-packages/tensorflow/python/keras/layers/serialization.py\", line 177, in deserialize\n    printable_module_name='layer')\n  File \"/usr/local/lib/python3.7/dist-packages/tensorflow/python/keras/utils/generic_utils.py\", line 358, in deserialize_keras_object\n    list(custom_objects.items())))\n  File \"/usr/local/lib/python3.7/dist-packages/tensorflow/python/keras/engine/functional.py\", line 669, in from_config\n    config, custom_objects)\n  File \"/usr/local/lib/python3.7/dist-packages/tensorflow/python/keras/engine/functional.py\", line 1275, in reconstruct_from_config\n    process_layer(layer_data)\n  File \"/usr/local/lib/python3.7/dist-packages/tensorflow/python/keras/engine/functional.py\", line 1257, in process_layer\n    layer = deserialize_layer(layer_data, custom_objects=custom_objects)\n  File \"/usr/local/lib/python3.7/dist-packages/tensorflow/python/keras/layers/serialization.py\", line 177, in deserialize\n    printable_module_name='layer')\n  File \"/usr/local/lib/python3.7/dist-packages/tensorflow/python/keras/utils/generic_utils.py\", line 358, in deserialize_keras_object\n    list(custom_objects.items())))\n  File \"/usr/local/lib/python3.7/dist-packages/tensorflow/python/keras/engine/functional.py\", line 669, in from_config\n    config, custom_objects)\n  File \"/usr/local/lib/python3.7/dist-packages/tensorflow/python/keras/engine/functional.py\", line 1285, in reconstruct_from_config\n    process_node(layer, node_data)\n  File \"/usr/local/lib/python3.7/dist-packages/tensorflow/python/keras/engine/functional.py\", line 1233, in process_node\n    output_tensors = layer(input_tensors, **kwargs)\n  File \"/usr/local/lib/python3.7/dist-packages/tensorflow/python/keras/engine/base_layer_v1.py\", line 766, in __call__\n    self._maybe_build(inputs)\n  File \"/usr/local/lib/python3.7/dist-packages/tensorflow/python/keras/engine/base_layer_v1.py\", line 2106, in _maybe_build\n    self.build(input_shapes)\n  File \"/usr/local/lib/python3.7/dist-packages/tensorflow/python/keras/layers/convolutional.py\", line 214, in build\n    dtype=self.dtype)\n  File \"/usr/local/lib/python3.7/dist-packages/tensorflow/python/keras/engine/base_layer_v1.py\", line 457, in add_weight\n    caching_device=caching_device)\n  File \"/usr/local/lib/python3.7/dist-packages/tensorflow/python/training/tracking/base.py\", line 810, in _add_variable_with_custom_getter\n    **kwargs_for_getter)\n  File \"/usr/local/lib/python3.7/dist-packages/tensorflow/python/keras/engine/base_layer_utils.py\", line 142, in make_variable\n    shape=variable_shape if variable_shape else None)\n  File \"/usr/local/lib/python3.7/dist-packages/tensorflow/python/ops/variables.py\", line 260, in __call__\n    return cls._variable_v1_call(*args, **kwargs)\n  File \"/usr/local/lib/python3.7/dist-packages/tensorflow/python/ops/variables.py\", line 221, in _variable_v1_call\n    shape=shape)\n  File \"/usr/local/lib/python3.7/dist-packages/tensorflow/python/ops/variables.py\", line 199, in <lambda>\n    previous_getter = lambda **kwargs: default_variable_creator(None, **kwargs)\n  File \"/usr/local/lib/python3.7/dist-packages/tensorflow/python/ops/variable_scope.py\", line 2618, in default_variable_creator\n    shape=shape)\n  File \"/usr/local/lib/python3.7/dist-packages/tensorflow/python/ops/variables.py\", line 264, in __call__\n    return super(VariableMetaclass, cls).__call__(*args, **kwargs)\n  File \"/usr/local/lib/python3.7/dist-packages/tensorflow/python/ops/resource_variable_ops.py\", line 1585, in __init__\n    distribute_strategy=distribute_strategy)\n  File \"/usr/local/lib/python3.7/dist-packages/tensorflow/python/ops/resource_variable_ops.py\", line 1712, in _init_from_args\n    initial_value = initial_value()\n  File \"/content/keras-retinanet/keras_retinanet/initializers.py\", line 36, in __call__\n    result = keras.backend.ones(shape, dtype=dtype) * -math.log((1 - self.probability) / self.probability)\n  File \"/usr/local/lib/python3.7/dist-packages/tensorflow/python/ops/variables.py\", line 1074, in _run_op\n    return tensor_oper(a.value(), *args, **kwargs)\n  File \"/usr/local/lib/python3.7/dist-packages/tensorflow/python/ops/resource_variable_ops.py\", line 565, in value\n    return self._read_variable_op()\n  File \"/usr/local/lib/python3.7/dist-packages/tensorflow/python/ops/resource_variable_ops.py\", line 672, in _read_variable_op\n    result = read_and_set_handle()\n  File \"/usr/local/lib/python3.7/dist-packages/tensorflow/python/ops/resource_variable_ops.py\", line 663, in read_and_set_handle\n    self._handle, self._dtype)\n  File \"/usr/local/lib/python3.7/dist-packages/tensorflow/python/ops/gen_resource_variable_ops.py\", line 485, in read_variable_op\n    \"ReadVariableOp\", resource=resource, dtype=dtype, name=name)\n  File \"/usr/local/lib/python3.7/dist-packages/tensorflow/python/framework/op_def_library.py\", line 750, in _apply_op_helper\n    attrs=attr_protos, op_def=op_def)\n  File \"/usr/local/lib/python3.7/dist-packages/tensorflow/python/framework/ops.py\", line 3536, in _create_op_internal\n    op_def=op_def)\n  File \"/usr/local/lib/python3.7/dist-packages/tensorflow/python/framework/ops.py\", line 1990, in __init__\n    self._traceback = tf_stack.extract_stack()\n"
          ]
        }
      ]
    },
    {
      "cell_type": "code",
      "metadata": {
        "colab": {
          "base_uri": "https://localhost:8080/"
        },
        "id": "08LmlFWg5jsP",
        "outputId": "a5932382-cb6a-47a4-b0a3-83958926978d"
      },
      "source": [
        "[out.op.name for out in model.outputs]"
      ],
      "execution_count": null,
      "outputs": [
        {
          "output_type": "stream",
          "text": [
            "filtered_detections_8/map/TensorArrayV2Stack/TensorListStack\n",
            "filtered_detections_8/map/TensorArrayV2Stack_1/TensorListStack\n",
            "filtered_detections_8/map/TensorArrayV2Stack_2/TensorListStack\n"
          ],
          "name": "stdout"
        }
      ]
    },
    {
      "cell_type": "code",
      "metadata": {
        "id": "mDowB3S4jlvk"
      },
      "source": [
        "print(\"........................................................s\")\n",
        "print('Output layers', [o.name[:-2] for o in model.outputs])\n",
        "print('Input layer', model.inputs[0].name[:-2])\n",
        "\n",
        "if os.path.isdir(export_path):\n",
        "    shutil.rmtree(export_path)\n",
        "builder = saved_model.builder.SavedModelBuilder(export_path)\n",
        "tf.compat.v1.disable_eager_execution()\n",
        "signature = predict_signature_def(\n",
        "    inputs={'images': model.input},\n",
        "    outputs={\n",
        "        'output1': model.outputs[0],\n",
        "        'output2': model.outputs[1],\n",
        "        'output3': model.outputs[2]\n",
        "    }\n",
        ")\n",
        "\n",
        "sess =tf.compat.v1.keras.backend.get_session()\n",
        "builder.add_meta_graph_and_variables(sess=sess,\n",
        "                                     tags=[saved_model.tag_constants.SERVING],\n",
        "                                     signature_def_map={'predict': signature})\n",
        "builder.save()"
      ],
      "execution_count": null,
      "outputs": []
    },
    {
      "cell_type": "code",
      "metadata": {
        "id": "9MteACSqCPd4"
      },
      "source": [
        "%cd /content/keras-retinanet/"
      ],
      "execution_count": null,
      "outputs": []
    },
    {
      "cell_type": "code",
      "metadata": {
        "id": "wWxs4tJkCq-4"
      },
      "source": [
        "!pip install --upgrade git+https://github.com/broadinstitute/keras-resnet\n",
        "import keras\n",
        "import keras_resnet"
      ],
      "execution_count": null,
      "outputs": []
    },
    {
      "cell_type": "code",
      "metadata": {
        "id": "8bhLd6ZTpjbf"
      },
      "source": [
        "import tensorflow as tf\n",
        "import os \n",
        "import os.path as osp\n",
        "from keras import backend as K\n",
        "from keras_retinanet import models\n",
        "\n",
        "def get_session():\n",
        "    \"\"\" Construct a modified tf session.\n",
        "    \"\"\"\n",
        "    config = tf.compat.v1.ConfigProto()\n",
        "    os.environ[\"CUDA_VISIBLE_DEVICES\"] = \"0\"\n",
        "    return tf.compat.v1.Session(config=config)\n",
        "\n",
        "def h5_to_pb(h5_model,output_dir,model_name,out_prefix = \"output_\",log_tensorboard = True):\n",
        "    if osp.exists(output_dir) == False:\n",
        "        os.mkdir(output_dir)\n",
        "    out_nodes = []\n",
        "    print(h5_model.outputs)\n",
        "    \n",
        "    for i in range(len(h5_model.outputs)):\n",
        "        out_nodes.append(out_prefix + str(i + 1))\n",
        "        tf.identity(h5_model.output[i],out_prefix + str(i + 1))\n",
        " \n",
        "    sess = tf.compat.v1.keras.backend.get_session()\n",
        "    init_graph = sess.graph.as_graph_def()\n",
        "    main_graph = tf.compat.v1.graph_util.convert_variables_to_constants(sess,init_graph,out_nodes)\n",
        "    tf.io.write_graph(main_graph,output_dir,name = model_name,as_text = False)\n",
        "    if log_tensorboard:\n",
        "        from tensorflow.python.tools import import_pb_to_tensorboard\n",
        "        import_pb_to_tensorboard.import_to_tensorboard(osp.join(output_dir,model_name),output_dir)\n",
        "\n",
        "output_dir = \"trans_model\"\n",
        "tf.compat.v1.keras.backend.set_session(get_session())\n",
        "\n",
        "weight_file_path = \"/content/drive/MyDrive/inference/tub.h5\"\n",
        "\n",
        "h5_model = models.load_model(weight_file_path)\n",
        "output_graph_name = \"tub.pb\"\n",
        "h5_to_pb(h5_model,output_dir = output_dir,model_name = output_graph_name)"
      ],
      "execution_count": null,
      "outputs": []
    },
    {
      "cell_type": "code",
      "metadata": {
        "id": "3wSgs1K_2Ked"
      },
      "source": [
        "from keras import backend as K\n",
        "import tensorflow as tf\n",
        "from tensorflow.python import saved_model\n",
        "from tensorflow.python.saved_model.signature_def_utils_impl import (\n",
        "    build_signature_def, predict_signature_def\n",
        ")\n",
        "\n",
        "from keras_retinanet import models\n",
        "import shutil\n",
        "import os\n",
        "\n",
        "\n",
        "export_path = 'retinanet_savedmodel'\n",
        "model = models.convert_model(\n",
        "    model=models.backbone(backbone_name='resnet50').retinanet(num_classes=1),\n",
        "    nms=True,\n",
        "    class_specific_filter=True,\n",
        "    anchor_params=None\n",
        ")\n",
        "model.load_weights(\"/content/drive/MyDrive/inference/tub.h5\")\n",
        "\n",
        "print('Output layers', [o.name[:-2] for o in model.outputs])\n",
        "print('Input layer', model.inputs[0].name[:-2])\n",
        "if os.path.isdir(export_path):\n",
        "    shutil.rmtree(export_path)\n",
        "builder = saved_model.builder.SavedModelBuilder(export_path)\n",
        "tf.compat.v1.disable_eager_execution()\n",
        "signature = predict_signature_def(\n",
        "    inputs={'images': model.input},\n",
        "    outputs={\n",
        "        'output1': model.outputs[0],\n",
        "        'output2': model.outputs[1],\n",
        "        'output3': model.outputs[2]\n",
        "    }\n",
        ")\n",
        "\n",
        "sess =tf.compat.v1.keras.backend.get_session()\n",
        "builder.add_meta_graph_and_variables(sess=sess,\n",
        "                                     tags=[saved_model.tag_constants.SERVING],\n",
        "                                     signature_def_map={'predict': signature})\n",
        "builder.save()"
      ],
      "execution_count": null,
      "outputs": []
    },
    {
      "cell_type": "code",
      "metadata": {
        "id": "DlwW68iBbeET"
      },
      "source": [
        "!python serving_convert.py"
      ],
      "execution_count": null,
      "outputs": []
    },
    {
      "cell_type": "code",
      "metadata": {
        "id": "2wrXXJJ8i_Ku"
      },
      "source": [
        "%cd \"/content/\" "
      ],
      "execution_count": null,
      "outputs": []
    },
    {
      "cell_type": "code",
      "metadata": {
        "id": "Nm4LjtpPowOh"
      },
      "source": [
        "!git clone https://github.com/amir-abdi/keras_to_tensorflow.git"
      ],
      "execution_count": null,
      "outputs": []
    },
    {
      "cell_type": "code",
      "metadata": {
        "colab": {
          "base_uri": "https://localhost:8080/"
        },
        "id": "dwvF8qmFo3H1",
        "outputId": "3aff4092-c663-4280-defd-49f421e5216b"
      },
      "source": [
        "%cd \"/content/keras_to_tensorflow/\" "
      ],
      "execution_count": null,
      "outputs": [
        {
          "output_type": "stream",
          "text": [
            "/content/keras_to_tensorflow\n"
          ],
          "name": "stdout"
        }
      ]
    },
    {
      "cell_type": "code",
      "metadata": {
        "colab": {
          "base_uri": "https://localhost:8080/"
        },
        "id": "8rczOd9YpAKK",
        "outputId": "b7bf8d53-c7fe-4856-e05a-2682f093bc99"
      },
      "source": [
        "!python keras_to_tensorflow.py --input_model=\"/content/drive/MyDrive/inference/tub.h5\" --output_model=\"/content/save_model/model.pb\""
      ],
      "execution_count": null,
      "outputs": [
        {
          "output_type": "stream",
          "text": [
            "2021-04-18 13:22:19.696106: I tensorflow/stream_executor/platform/default/dso_loader.cc:49] Successfully opened dynamic library libcudart.so.11.0\n",
            "/usr/local/lib/python3.7/dist-packages/tensorflow/python/keras/backend.py:434: UserWarning: `tf.keras.backend.set_learning_phase` is deprecated and will be removed after 2020-10-11. To update it, simply pass a True/False value to the `training` argument of the `__call__` method of your layer or model.\n",
            "  warnings.warn('`tf.keras.backend.set_learning_phase` is deprecated and '\n",
            "2021-04-18 13:22:22.066310: I tensorflow/compiler/jit/xla_cpu_device.cc:41] Not creating XLA devices, tf_xla_enable_xla_devices not set\n",
            "2021-04-18 13:22:22.067473: I tensorflow/stream_executor/platform/default/dso_loader.cc:49] Successfully opened dynamic library libcuda.so.1\n",
            "2021-04-18 13:22:22.079306: E tensorflow/stream_executor/cuda/cuda_driver.cc:328] failed call to cuInit: CUDA_ERROR_NO_DEVICE: no CUDA-capable device is detected\n",
            "2021-04-18 13:22:22.079382: I tensorflow/stream_executor/cuda/cuda_diagnostics.cc:156] kernel driver does not appear to be running on this host (d9957ffc2bdd): /proc/driver/nvidia/version does not exist\n",
            "2021-04-18 13:22:22.079959: I tensorflow/compiler/jit/xla_gpu_device.cc:99] Not creating XLA devices, tf_xla_enable_xla_devices not set\n",
            "WARNING:tensorflow:No training configuration found in the save file, so the model was *not* compiled. Compile it manually.\n",
            "W0418 13:22:26.493446 139752672098176 hdf5_format.py:193] No training configuration found in the save file, so the model was *not* compiled. Compile it manually.\n",
            "I0418 13:22:26.496126 139752672098176 keras_to_tensorflow.py:101] Converted output node names are: ['filtered_detections/map/TensorArrayV2Stack/TensorListStack:0', 'filtered_detections/map/TensorArrayV2Stack_1/TensorListStack:0', 'filtered_detections/map/TensorArrayV2Stack_2/TensorListStack:0']\n",
            "WARNING:tensorflow:From keras_to_tensorflow.py:103: The name tf.keras.backend.get_session is deprecated. Please use tf.compat.v1.keras.backend.get_session instead.\n",
            "\n",
            "W0418 13:22:26.496422 139752672098176 module_wrapper.py:138] From keras_to_tensorflow.py:103: The name tf.keras.backend.get_session is deprecated. Please use tf.compat.v1.keras.backend.get_session instead.\n",
            "\n",
            "2021-04-18 13:22:26.496946: I tensorflow/compiler/jit/xla_gpu_device.cc:99] Not creating XLA devices, tf_xla_enable_xla_devices not set\n",
            "WARNING:tensorflow:From keras_to_tensorflow.py:128: convert_variables_to_constants (from tensorflow.python.framework.graph_util_impl) is deprecated and will be removed in a future version.\n",
            "Instructions for updating:\n",
            "Use `tf.compat.v1.graph_util.convert_variables_to_constants`\n",
            "W0418 13:22:26.497555 139752672098176 deprecation.py:339] From keras_to_tensorflow.py:128: convert_variables_to_constants (from tensorflow.python.framework.graph_util_impl) is deprecated and will be removed in a future version.\n",
            "Instructions for updating:\n",
            "Use `tf.compat.v1.graph_util.convert_variables_to_constants`\n",
            "WARNING:tensorflow:From /usr/local/lib/python3.7/dist-packages/tensorflow/python/framework/convert_to_constants.py:856: extract_sub_graph (from tensorflow.python.framework.graph_util_impl) is deprecated and will be removed in a future version.\n",
            "Instructions for updating:\n",
            "Use `tf.compat.v1.graph_util.extract_sub_graph`\n",
            "W0418 13:22:26.497879 139752672098176 deprecation.py:339] From /usr/local/lib/python3.7/dist-packages/tensorflow/python/framework/convert_to_constants.py:856: extract_sub_graph (from tensorflow.python.framework.graph_util_impl) is deprecated and will be removed in a future version.\n",
            "Instructions for updating:\n",
            "Use `tf.compat.v1.graph_util.extract_sub_graph`\n",
            "Traceback (most recent call last):\n",
            "  File \"keras_to_tensorflow.py\", line 137, in <module>\n",
            "    app.run(main)\n",
            "  File \"/usr/local/lib/python3.7/dist-packages/absl/app.py\", line 303, in run\n",
            "    _run_main(main, args)\n",
            "  File \"/usr/local/lib/python3.7/dist-packages/absl/app.py\", line 251, in _run_main\n",
            "    sys.exit(main(argv))\n",
            "  File \"keras_to_tensorflow.py\", line 128, in main\n",
            "    converted_output_node_names)\n",
            "  File \"/usr/local/lib/python3.7/dist-packages/tensorflow/python/util/deprecation.py\", line 340, in new_func\n",
            "    return func(*args, **kwargs)\n",
            "  File \"/usr/local/lib/python3.7/dist-packages/tensorflow/python/framework/graph_util_impl.py\", line 280, in convert_variables_to_constants\n",
            "    variable_names_denylist=variable_names_blacklist)\n",
            "  File \"/usr/local/lib/python3.7/dist-packages/tensorflow/python/framework/convert_to_constants.py\", line 1148, in convert_variables_to_constants_from_session_graph\n",
            "    variable_names_denylist=variable_names_denylist))\n",
            "  File \"/usr/local/lib/python3.7/dist-packages/tensorflow/python/framework/convert_to_constants.py\", line 856, in __init__\n",
            "    graph_def = graph_util.extract_sub_graph(graph_def, output_node_names)\n",
            "  File \"/usr/local/lib/python3.7/dist-packages/tensorflow/python/util/deprecation.py\", line 340, in new_func\n",
            "    return func(*args, **kwargs)\n",
            "  File \"/usr/local/lib/python3.7/dist-packages/tensorflow/python/framework/graph_util_impl.py\", line 208, in extract_sub_graph\n",
            "    _assert_nodes_are_present(name_to_node, dest_nodes)\n",
            "  File \"/usr/local/lib/python3.7/dist-packages/tensorflow/python/framework/graph_util_impl.py\", line 163, in _assert_nodes_are_present\n",
            "    assert d in name_to_node, \"%s is not in graph\" % d\n",
            "AssertionError: filtered_detections/map/TensorArrayV2Stack/TensorListStack:0 is not in graph\n"
          ],
          "name": "stdout"
        }
      ]
    },
    {
      "cell_type": "code",
      "metadata": {
        "colab": {
          "base_uri": "https://localhost:8080/"
        },
        "id": "rL-qyh6JrOA2",
        "outputId": "7a615d9f-096e-4a8a-de88-c58e440eaf74"
      },
      "source": [
        "%cd /content/keras-retinanet/examples/"
      ],
      "execution_count": null,
      "outputs": [
        {
          "output_type": "stream",
          "text": [
            "/content/keras-retinanet/examples\n"
          ],
          "name": "stdout"
        }
      ]
    },
    {
      "cell_type": "code",
      "metadata": {
        "colab": {
          "base_uri": "https://localhost:8080/"
        },
        "id": "5OQSATjorzO1",
        "outputId": "90fa8b9d-03b0-4059-b967-424418d3f4b1"
      },
      "source": [
        "!python test_dir_door.py"
      ],
      "execution_count": null,
      "outputs": [
        {
          "output_type": "stream",
          "text": [
            "python3: can't open file 'test_dir_door.py': [Errno 2] No such file or directory\n"
          ],
          "name": "stdout"
        }
      ]
    },
    {
      "cell_type": "code",
      "metadata": {
        "id": "MMxn5D5tr3hD"
      },
      "source": [
        "import keras"
      ],
      "execution_count": null,
      "outputs": []
    },
    {
      "cell_type": "code",
      "metadata": {
        "colab": {
          "base_uri": "https://localhost:8080/",
          "height": 35
        },
        "id": "0CsT-ZMYxWTd",
        "outputId": "bcb0ddcc-74de-4895-ea05-af38abb6dcd7"
      },
      "source": [
        "keras.__version__"
      ],
      "execution_count": null,
      "outputs": [
        {
          "output_type": "execute_result",
          "data": {
            "application/vnd.google.colaboratory.intrinsic+json": {
              "type": "string"
            },
            "text/plain": [
              "'2.5.0'"
            ]
          },
          "metadata": {
            "tags": []
          },
          "execution_count": 15
        }
      ]
    },
    {
      "cell_type": "code",
      "metadata": {
        "id": "CviIRlGpxZTM"
      },
      "source": [
        "import tensorflow"
      ],
      "execution_count": null,
      "outputs": []
    },
    {
      "cell_type": "code",
      "metadata": {
        "colab": {
          "base_uri": "https://localhost:8080/",
          "height": 35
        },
        "id": "tq6WAnbIxo-r",
        "outputId": "6a0b26fb-0278-44ed-c410-66ae7b1196bc"
      },
      "source": [
        "tensorflow.__version__"
      ],
      "execution_count": null,
      "outputs": [
        {
          "output_type": "execute_result",
          "data": {
            "application/vnd.google.colaboratory.intrinsic+json": {
              "type": "string"
            },
            "text/plain": [
              "'2.5.0'"
            ]
          },
          "metadata": {
            "tags": []
          },
          "execution_count": 17
        }
      ]
    },
    {
      "cell_type": "code",
      "metadata": {
        "id": "AxcGTmhRxr7P",
        "colab": {
          "base_uri": "https://localhost:8080/"
        },
        "outputId": "23e3b7f6-b06c-4300-fc5a-a5fa08ab50d8"
      },
      "source": [
        "!pip install keras-retinanet"
      ],
      "execution_count": null,
      "outputs": [
        {
          "output_type": "stream",
          "text": [
            "Collecting keras-retinanet\n",
            "\u001b[?25l  Downloading https://files.pythonhosted.org/packages/69/a1/00b1d6591bef8276f964b16b52a0b63e941c6aec5631aa2b95fc1b17a1aa/keras-retinanet-1.0.0.tar.gz (71kB)\n",
            "\r\u001b[K     |████▋                           | 10kB 21.5MB/s eta 0:00:01\r\u001b[K     |█████████▏                      | 20kB 29.2MB/s eta 0:00:01\r\u001b[K     |█████████████▊                  | 30kB 34.0MB/s eta 0:00:01\r\u001b[K     |██████████████████▍             | 40kB 29.3MB/s eta 0:00:01\r\u001b[K     |███████████████████████         | 51kB 31.4MB/s eta 0:00:01\r\u001b[K     |███████████████████████████▌    | 61kB 33.9MB/s eta 0:00:01\r\u001b[K     |████████████████████████████████| 71kB 9.1MB/s \n",
            "\u001b[?25hCollecting keras-resnet==0.2.0\n",
            "  Downloading https://files.pythonhosted.org/packages/76/d4/a35cbd07381139dda4db42c81b88c59254faac026109022727b45b31bcad/keras-resnet-0.2.0.tar.gz\n",
            "Requirement already satisfied: six in /usr/local/lib/python3.7/dist-packages (from keras-retinanet) (1.15.0)\n",
            "Requirement already satisfied: scipy in /usr/local/lib/python3.7/dist-packages (from keras-retinanet) (1.4.1)\n",
            "Requirement already satisfied: cython in /usr/local/lib/python3.7/dist-packages (from keras-retinanet) (0.29.23)\n",
            "Requirement already satisfied: Pillow in /usr/local/lib/python3.7/dist-packages (from keras-retinanet) (7.1.2)\n",
            "Requirement already satisfied: opencv-python in /usr/local/lib/python3.7/dist-packages (from keras-retinanet) (4.1.2.30)\n",
            "Requirement already satisfied: progressbar2 in /usr/local/lib/python3.7/dist-packages (from keras-retinanet) (3.38.0)\n",
            "Requirement already satisfied: keras>=2.2.4 in /usr/local/lib/python3.7/dist-packages (from keras-resnet==0.2.0->keras-retinanet) (2.4.3)\n",
            "Requirement already satisfied: numpy>=1.13.3 in /usr/local/lib/python3.7/dist-packages (from scipy->keras-retinanet) (1.19.5)\n",
            "Requirement already satisfied: python-utils>=2.3.0 in /usr/local/lib/python3.7/dist-packages (from progressbar2->keras-retinanet) (2.5.6)\n",
            "Requirement already satisfied: h5py in /usr/local/lib/python3.7/dist-packages (from keras>=2.2.4->keras-resnet==0.2.0->keras-retinanet) (3.1.0)\n",
            "Requirement already satisfied: pyyaml in /usr/local/lib/python3.7/dist-packages (from keras>=2.2.4->keras-resnet==0.2.0->keras-retinanet) (3.13)\n",
            "Requirement already satisfied: cached-property; python_version < \"3.8\" in /usr/local/lib/python3.7/dist-packages (from h5py->keras>=2.2.4->keras-resnet==0.2.0->keras-retinanet) (1.5.2)\n",
            "Building wheels for collected packages: keras-retinanet, keras-resnet\n",
            "  Building wheel for keras-retinanet (setup.py) ... \u001b[?25l\u001b[?25hdone\n",
            "  Created wheel for keras-retinanet: filename=keras_retinanet-1.0.0-cp37-cp37m-linux_x86_64.whl size=163882 sha256=c1b356d1ea36da496dd057eea8c9709d1ec5c43c6fca15f38015dcfaf0914fc8\n",
            "  Stored in directory: /root/.cache/pip/wheels/79/1d/fc/496708301dbd84bc2faa258d24d82f39fe46d9701d52287373\n",
            "  Building wheel for keras-resnet (setup.py) ... \u001b[?25l\u001b[?25hdone\n",
            "  Created wheel for keras-resnet: filename=keras_resnet-0.2.0-py2.py3-none-any.whl size=20487 sha256=3f701fade395b1d492a768d289f847bb73b319b36dc26bffc7317711a96ec843\n",
            "  Stored in directory: /root/.cache/pip/wheels/5f/09/a5/497a30fd9ad9964e98a1254d1e164bcd1b8a5eda36197ecb3c\n",
            "Successfully built keras-retinanet keras-resnet\n",
            "Installing collected packages: keras-resnet, keras-retinanet\n",
            "Successfully installed keras-resnet-0.2.0 keras-retinanet-1.0.0\n"
          ],
          "name": "stdout"
        }
      ]
    },
    {
      "cell_type": "code",
      "metadata": {
        "id": "apVGraiKSYoO"
      },
      "source": [
        ""
      ],
      "execution_count": null,
      "outputs": []
    }
  ]
}